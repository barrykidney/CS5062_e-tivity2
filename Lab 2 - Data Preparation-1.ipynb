{
 "cells": [
  {
   "cell_type": "markdown",
   "metadata": {},
   "source": [
    "# Lab 2: Data Preparation"
   ]
  },
  {
   "cell_type": "markdown",
   "metadata": {},
   "source": [
    "In the exploration of the *loans* dataset, we discovered a few issues, which need to be resolved before the dataset is ready for machine learning (ML). This exercise is typically referred as either *data preparation*, or *data preprocessing*, or *data munging*, or *data wrangling*. \n",
    "\n",
    "Here are the problems, we are already aware of:\n",
    "\n",
    "- There are missing values in some columns. We can estimate these values depending on the number of missing values and the expected importance of the column.\n",
    "\n",
    "- We observed that `ApplicantIncome` and `LoanAmount` seem to contain extreme values at either end. Although they might make intuitive sense, they should be treated appropriately."
   ]
  },
  {
   "cell_type": "markdown",
   "metadata": {},
   "source": [
    "## A. Import Python Modules and Dataset"
   ]
  },
  {
   "cell_type": "code",
   "execution_count": 1,
   "metadata": {},
   "outputs": [
    {
     "data": {
      "text/html": [
       "<div>\n",
       "<style scoped>\n",
       "    .dataframe tbody tr th:only-of-type {\n",
       "        vertical-align: middle;\n",
       "    }\n",
       "\n",
       "    .dataframe tbody tr th {\n",
       "        vertical-align: top;\n",
       "    }\n",
       "\n",
       "    .dataframe thead th {\n",
       "        text-align: right;\n",
       "    }\n",
       "</style>\n",
       "<table border=\"1\" class=\"dataframe\">\n",
       "  <thead>\n",
       "    <tr style=\"text-align: right;\">\n",
       "      <th></th>\n",
       "      <th>Loan_ID</th>\n",
       "      <th>Gender</th>\n",
       "      <th>Married</th>\n",
       "      <th>Dependents</th>\n",
       "      <th>Education</th>\n",
       "      <th>Self_Employed</th>\n",
       "      <th>ApplicantIncome</th>\n",
       "      <th>CoapplicantIncome</th>\n",
       "      <th>LoanAmount</th>\n",
       "      <th>Loan_Amount_Term</th>\n",
       "      <th>Credit_History</th>\n",
       "      <th>Property_Area</th>\n",
       "      <th>Loan_Status</th>\n",
       "    </tr>\n",
       "  </thead>\n",
       "  <tbody>\n",
       "    <tr>\n",
       "      <th>609</th>\n",
       "      <td>LP002978</td>\n",
       "      <td>Female</td>\n",
       "      <td>No</td>\n",
       "      <td>0</td>\n",
       "      <td>Graduate</td>\n",
       "      <td>No</td>\n",
       "      <td>2900</td>\n",
       "      <td>0.0</td>\n",
       "      <td>71.0</td>\n",
       "      <td>360.0</td>\n",
       "      <td>1.0</td>\n",
       "      <td>Rural</td>\n",
       "      <td>Y</td>\n",
       "    </tr>\n",
       "    <tr>\n",
       "      <th>610</th>\n",
       "      <td>LP002979</td>\n",
       "      <td>Male</td>\n",
       "      <td>Yes</td>\n",
       "      <td>3+</td>\n",
       "      <td>Graduate</td>\n",
       "      <td>No</td>\n",
       "      <td>4106</td>\n",
       "      <td>0.0</td>\n",
       "      <td>40.0</td>\n",
       "      <td>180.0</td>\n",
       "      <td>1.0</td>\n",
       "      <td>Rural</td>\n",
       "      <td>Y</td>\n",
       "    </tr>\n",
       "    <tr>\n",
       "      <th>611</th>\n",
       "      <td>LP002983</td>\n",
       "      <td>Male</td>\n",
       "      <td>Yes</td>\n",
       "      <td>1</td>\n",
       "      <td>Graduate</td>\n",
       "      <td>No</td>\n",
       "      <td>8072</td>\n",
       "      <td>240.0</td>\n",
       "      <td>253.0</td>\n",
       "      <td>360.0</td>\n",
       "      <td>1.0</td>\n",
       "      <td>Urban</td>\n",
       "      <td>Y</td>\n",
       "    </tr>\n",
       "    <tr>\n",
       "      <th>612</th>\n",
       "      <td>LP002984</td>\n",
       "      <td>Male</td>\n",
       "      <td>Yes</td>\n",
       "      <td>2</td>\n",
       "      <td>Graduate</td>\n",
       "      <td>No</td>\n",
       "      <td>7583</td>\n",
       "      <td>0.0</td>\n",
       "      <td>187.0</td>\n",
       "      <td>360.0</td>\n",
       "      <td>1.0</td>\n",
       "      <td>Urban</td>\n",
       "      <td>Y</td>\n",
       "    </tr>\n",
       "    <tr>\n",
       "      <th>613</th>\n",
       "      <td>LP002990</td>\n",
       "      <td>Female</td>\n",
       "      <td>No</td>\n",
       "      <td>0</td>\n",
       "      <td>Graduate</td>\n",
       "      <td>Yes</td>\n",
       "      <td>4583</td>\n",
       "      <td>0.0</td>\n",
       "      <td>133.0</td>\n",
       "      <td>360.0</td>\n",
       "      <td>0.0</td>\n",
       "      <td>Semiurban</td>\n",
       "      <td>N</td>\n",
       "    </tr>\n",
       "  </tbody>\n",
       "</table>\n",
       "</div>"
      ],
      "text/plain": [
       "      Loan_ID  Gender Married Dependents Education Self_Employed  \\\n",
       "609  LP002978  Female      No          0  Graduate            No   \n",
       "610  LP002979    Male     Yes         3+  Graduate            No   \n",
       "611  LP002983    Male     Yes          1  Graduate            No   \n",
       "612  LP002984    Male     Yes          2  Graduate            No   \n",
       "613  LP002990  Female      No          0  Graduate           Yes   \n",
       "\n",
       "     ApplicantIncome  CoapplicantIncome  LoanAmount  Loan_Amount_Term  \\\n",
       "609             2900                0.0        71.0             360.0   \n",
       "610             4106                0.0        40.0             180.0   \n",
       "611             8072              240.0       253.0             360.0   \n",
       "612             7583                0.0       187.0             360.0   \n",
       "613             4583                0.0       133.0             360.0   \n",
       "\n",
       "     Credit_History Property_Area Loan_Status  \n",
       "609             1.0         Rural           Y  \n",
       "610             1.0         Rural           Y  \n",
       "611             1.0         Urban           Y  \n",
       "612             1.0         Urban           Y  \n",
       "613             0.0     Semiurban           N  "
      ]
     },
     "execution_count": 1,
     "metadata": {},
     "output_type": "execute_result"
    }
   ],
   "source": [
    "import pandas as pd\n",
    "import numpy as np\n",
    "from sklearn.preprocessing import RobustScaler\n",
    "import matplotlib.pyplot as plt\n",
    "%matplotlib inline\n",
    "\n",
    "df = pd.read_csv(\"./loans_train.csv\")\n",
    "df.tail()"
   ]
  },
  {
   "cell_type": "markdown",
   "metadata": {},
   "source": [
    "Check for missing values."
   ]
  },
  {
   "cell_type": "code",
   "execution_count": 2,
   "metadata": {},
   "outputs": [
    {
     "data": {
      "text/plain": [
       "Loan_ID               0\n",
       "Gender               13\n",
       "Married               3\n",
       "Dependents           15\n",
       "Education             0\n",
       "Self_Employed        32\n",
       "ApplicantIncome       0\n",
       "CoapplicantIncome     0\n",
       "LoanAmount           22\n",
       "Loan_Amount_Term     14\n",
       "Credit_History       50\n",
       "Property_Area         0\n",
       "Loan_Status           0\n",
       "dtype: int64"
      ]
     },
     "execution_count": 2,
     "metadata": {},
     "output_type": "execute_result"
    }
   ],
   "source": [
    "df.isna().sum()"
   ]
  },
  {
   "cell_type": "markdown",
   "metadata": {},
   "source": [
    "Before we start transforming the dataset let's make a copy of it."
   ]
  },
  {
   "cell_type": "code",
   "execution_count": 3,
   "metadata": {},
   "outputs": [],
   "source": [
    "df_original = df"
   ]
  },
  {
   "cell_type": "markdown",
   "metadata": {},
   "source": [
    "## B. Process and Encode the Categorical Features"
   ]
  },
  {
   "cell_type": "markdown",
   "metadata": {},
   "source": [
    "### Column `Loan_ID`"
   ]
  },
  {
   "cell_type": "markdown",
   "metadata": {},
   "source": [
    "Columns with ID numbers are unlikely to contain useful information and should be dropped."
   ]
  },
  {
   "cell_type": "code",
   "execution_count": 4,
   "metadata": {},
   "outputs": [
    {
     "data": {
      "text/html": [
       "<div>\n",
       "<style scoped>\n",
       "    .dataframe tbody tr th:only-of-type {\n",
       "        vertical-align: middle;\n",
       "    }\n",
       "\n",
       "    .dataframe tbody tr th {\n",
       "        vertical-align: top;\n",
       "    }\n",
       "\n",
       "    .dataframe thead th {\n",
       "        text-align: right;\n",
       "    }\n",
       "</style>\n",
       "<table border=\"1\" class=\"dataframe\">\n",
       "  <thead>\n",
       "    <tr style=\"text-align: right;\">\n",
       "      <th></th>\n",
       "      <th>Gender</th>\n",
       "      <th>Married</th>\n",
       "      <th>Dependents</th>\n",
       "      <th>Education</th>\n",
       "      <th>Self_Employed</th>\n",
       "      <th>ApplicantIncome</th>\n",
       "      <th>CoapplicantIncome</th>\n",
       "      <th>LoanAmount</th>\n",
       "      <th>Loan_Amount_Term</th>\n",
       "      <th>Credit_History</th>\n",
       "      <th>Property_Area</th>\n",
       "      <th>Loan_Status</th>\n",
       "    </tr>\n",
       "  </thead>\n",
       "  <tbody>\n",
       "    <tr>\n",
       "      <th>609</th>\n",
       "      <td>Female</td>\n",
       "      <td>No</td>\n",
       "      <td>0</td>\n",
       "      <td>Graduate</td>\n",
       "      <td>No</td>\n",
       "      <td>2900</td>\n",
       "      <td>0.0</td>\n",
       "      <td>71.0</td>\n",
       "      <td>360.0</td>\n",
       "      <td>1.0</td>\n",
       "      <td>Rural</td>\n",
       "      <td>Y</td>\n",
       "    </tr>\n",
       "    <tr>\n",
       "      <th>610</th>\n",
       "      <td>Male</td>\n",
       "      <td>Yes</td>\n",
       "      <td>3+</td>\n",
       "      <td>Graduate</td>\n",
       "      <td>No</td>\n",
       "      <td>4106</td>\n",
       "      <td>0.0</td>\n",
       "      <td>40.0</td>\n",
       "      <td>180.0</td>\n",
       "      <td>1.0</td>\n",
       "      <td>Rural</td>\n",
       "      <td>Y</td>\n",
       "    </tr>\n",
       "    <tr>\n",
       "      <th>611</th>\n",
       "      <td>Male</td>\n",
       "      <td>Yes</td>\n",
       "      <td>1</td>\n",
       "      <td>Graduate</td>\n",
       "      <td>No</td>\n",
       "      <td>8072</td>\n",
       "      <td>240.0</td>\n",
       "      <td>253.0</td>\n",
       "      <td>360.0</td>\n",
       "      <td>1.0</td>\n",
       "      <td>Urban</td>\n",
       "      <td>Y</td>\n",
       "    </tr>\n",
       "    <tr>\n",
       "      <th>612</th>\n",
       "      <td>Male</td>\n",
       "      <td>Yes</td>\n",
       "      <td>2</td>\n",
       "      <td>Graduate</td>\n",
       "      <td>No</td>\n",
       "      <td>7583</td>\n",
       "      <td>0.0</td>\n",
       "      <td>187.0</td>\n",
       "      <td>360.0</td>\n",
       "      <td>1.0</td>\n",
       "      <td>Urban</td>\n",
       "      <td>Y</td>\n",
       "    </tr>\n",
       "    <tr>\n",
       "      <th>613</th>\n",
       "      <td>Female</td>\n",
       "      <td>No</td>\n",
       "      <td>0</td>\n",
       "      <td>Graduate</td>\n",
       "      <td>Yes</td>\n",
       "      <td>4583</td>\n",
       "      <td>0.0</td>\n",
       "      <td>133.0</td>\n",
       "      <td>360.0</td>\n",
       "      <td>0.0</td>\n",
       "      <td>Semiurban</td>\n",
       "      <td>N</td>\n",
       "    </tr>\n",
       "  </tbody>\n",
       "</table>\n",
       "</div>"
      ],
      "text/plain": [
       "     Gender Married Dependents Education Self_Employed  ApplicantIncome  \\\n",
       "609  Female      No          0  Graduate            No             2900   \n",
       "610    Male     Yes         3+  Graduate            No             4106   \n",
       "611    Male     Yes          1  Graduate            No             8072   \n",
       "612    Male     Yes          2  Graduate            No             7583   \n",
       "613  Female      No          0  Graduate           Yes             4583   \n",
       "\n",
       "     CoapplicantIncome  LoanAmount  Loan_Amount_Term  Credit_History  \\\n",
       "609                0.0        71.0             360.0             1.0   \n",
       "610                0.0        40.0             180.0             1.0   \n",
       "611              240.0       253.0             360.0             1.0   \n",
       "612                0.0       187.0             360.0             1.0   \n",
       "613                0.0       133.0             360.0             0.0   \n",
       "\n",
       "    Property_Area Loan_Status  \n",
       "609         Rural           Y  \n",
       "610         Rural           Y  \n",
       "611         Urban           Y  \n",
       "612         Urban           Y  \n",
       "613     Semiurban           N  "
      ]
     },
     "execution_count": 4,
     "metadata": {},
     "output_type": "execute_result"
    }
   ],
   "source": [
    "df.drop('Loan_ID', axis=1, inplace=True)\n",
    "df.tail()"
   ]
  },
  {
   "cell_type": "markdown",
   "metadata": {},
   "source": [
    "### Encode Ordinal Categorical Attributes "
   ]
  },
  {
   "cell_type": "markdown",
   "metadata": {},
   "source": [
    "Note that there is only one categorical column, the column `Dependents`, which is **ordinal**. All other categorical columns (after deleting `Loan_ID`) are **nominal**.\n",
    "\n",
    "Let's first encode `Dependents`. While `Dependents` does look like a numerical column, it is not, because one of the possible values '3+' which is not a number. Still, there is an inherent order among the possible values in this column, i.e. 0 < 1 < 2 < 3+. Thus, we can encode it by replacing '3+' by 3."
   ]
  },
  {
   "cell_type": "code",
   "execution_count": 5,
   "metadata": {},
   "outputs": [
    {
     "data": {
      "text/html": [
       "<div>\n",
       "<style scoped>\n",
       "    .dataframe tbody tr th:only-of-type {\n",
       "        vertical-align: middle;\n",
       "    }\n",
       "\n",
       "    .dataframe tbody tr th {\n",
       "        vertical-align: top;\n",
       "    }\n",
       "\n",
       "    .dataframe thead th {\n",
       "        text-align: right;\n",
       "    }\n",
       "</style>\n",
       "<table border=\"1\" class=\"dataframe\">\n",
       "  <thead>\n",
       "    <tr style=\"text-align: right;\">\n",
       "      <th></th>\n",
       "      <th>Gender</th>\n",
       "      <th>Married</th>\n",
       "      <th>Dependents</th>\n",
       "      <th>Education</th>\n",
       "      <th>Self_Employed</th>\n",
       "      <th>ApplicantIncome</th>\n",
       "      <th>CoapplicantIncome</th>\n",
       "      <th>LoanAmount</th>\n",
       "      <th>Loan_Amount_Term</th>\n",
       "      <th>Credit_History</th>\n",
       "      <th>Property_Area</th>\n",
       "      <th>Loan_Status</th>\n",
       "    </tr>\n",
       "  </thead>\n",
       "  <tbody>\n",
       "    <tr>\n",
       "      <th>609</th>\n",
       "      <td>Female</td>\n",
       "      <td>No</td>\n",
       "      <td>0.0</td>\n",
       "      <td>Graduate</td>\n",
       "      <td>No</td>\n",
       "      <td>2900</td>\n",
       "      <td>0.0</td>\n",
       "      <td>71.0</td>\n",
       "      <td>360.0</td>\n",
       "      <td>1.0</td>\n",
       "      <td>Rural</td>\n",
       "      <td>Y</td>\n",
       "    </tr>\n",
       "    <tr>\n",
       "      <th>610</th>\n",
       "      <td>Male</td>\n",
       "      <td>Yes</td>\n",
       "      <td>3.0</td>\n",
       "      <td>Graduate</td>\n",
       "      <td>No</td>\n",
       "      <td>4106</td>\n",
       "      <td>0.0</td>\n",
       "      <td>40.0</td>\n",
       "      <td>180.0</td>\n",
       "      <td>1.0</td>\n",
       "      <td>Rural</td>\n",
       "      <td>Y</td>\n",
       "    </tr>\n",
       "    <tr>\n",
       "      <th>611</th>\n",
       "      <td>Male</td>\n",
       "      <td>Yes</td>\n",
       "      <td>1.0</td>\n",
       "      <td>Graduate</td>\n",
       "      <td>No</td>\n",
       "      <td>8072</td>\n",
       "      <td>240.0</td>\n",
       "      <td>253.0</td>\n",
       "      <td>360.0</td>\n",
       "      <td>1.0</td>\n",
       "      <td>Urban</td>\n",
       "      <td>Y</td>\n",
       "    </tr>\n",
       "    <tr>\n",
       "      <th>612</th>\n",
       "      <td>Male</td>\n",
       "      <td>Yes</td>\n",
       "      <td>2.0</td>\n",
       "      <td>Graduate</td>\n",
       "      <td>No</td>\n",
       "      <td>7583</td>\n",
       "      <td>0.0</td>\n",
       "      <td>187.0</td>\n",
       "      <td>360.0</td>\n",
       "      <td>1.0</td>\n",
       "      <td>Urban</td>\n",
       "      <td>Y</td>\n",
       "    </tr>\n",
       "    <tr>\n",
       "      <th>613</th>\n",
       "      <td>Female</td>\n",
       "      <td>No</td>\n",
       "      <td>0.0</td>\n",
       "      <td>Graduate</td>\n",
       "      <td>Yes</td>\n",
       "      <td>4583</td>\n",
       "      <td>0.0</td>\n",
       "      <td>133.0</td>\n",
       "      <td>360.0</td>\n",
       "      <td>0.0</td>\n",
       "      <td>Semiurban</td>\n",
       "      <td>N</td>\n",
       "    </tr>\n",
       "  </tbody>\n",
       "</table>\n",
       "</div>"
      ],
      "text/plain": [
       "     Gender Married  Dependents Education Self_Employed  ApplicantIncome  \\\n",
       "609  Female      No         0.0  Graduate            No             2900   \n",
       "610    Male     Yes         3.0  Graduate            No             4106   \n",
       "611    Male     Yes         1.0  Graduate            No             8072   \n",
       "612    Male     Yes         2.0  Graduate            No             7583   \n",
       "613  Female      No         0.0  Graduate           Yes             4583   \n",
       "\n",
       "     CoapplicantIncome  LoanAmount  Loan_Amount_Term  Credit_History  \\\n",
       "609                0.0        71.0             360.0             1.0   \n",
       "610                0.0        40.0             180.0             1.0   \n",
       "611              240.0       253.0             360.0             1.0   \n",
       "612                0.0       187.0             360.0             1.0   \n",
       "613                0.0       133.0             360.0             0.0   \n",
       "\n",
       "    Property_Area Loan_Status  \n",
       "609         Rural           Y  \n",
       "610         Rural           Y  \n",
       "611         Urban           Y  \n",
       "612         Urban           Y  \n",
       "613     Semiurban           N  "
      ]
     },
     "execution_count": 5,
     "metadata": {},
     "output_type": "execute_result"
    }
   ],
   "source": [
    "# Create a mapper\n",
    "\n",
    "scale_mapper = {\n",
    "    \"0\": 0,\n",
    "    \"1\": 1,\n",
    "    \"2\": 2,\n",
    "    \"3+\": 3\n",
    "}\n",
    "\n",
    "df['Dependents'] = df['Dependents'].replace(scale_mapper)\n",
    "\n",
    "df.tail()"
   ]
  },
  {
   "cell_type": "markdown",
   "metadata": {},
   "source": [
    "### One-Hot Encode All Other Categorical Attributes"
   ]
  },
  {
   "cell_type": "code",
   "execution_count": 6,
   "metadata": {},
   "outputs": [
    {
     "data": {
      "text/html": [
       "<div>\n",
       "<style scoped>\n",
       "    .dataframe tbody tr th:only-of-type {\n",
       "        vertical-align: middle;\n",
       "    }\n",
       "\n",
       "    .dataframe tbody tr th {\n",
       "        vertical-align: top;\n",
       "    }\n",
       "\n",
       "    .dataframe thead th {\n",
       "        text-align: right;\n",
       "    }\n",
       "</style>\n",
       "<table border=\"1\" class=\"dataframe\">\n",
       "  <thead>\n",
       "    <tr style=\"text-align: right;\">\n",
       "      <th></th>\n",
       "      <th>Dependents</th>\n",
       "      <th>Education</th>\n",
       "      <th>ApplicantIncome</th>\n",
       "      <th>CoapplicantIncome</th>\n",
       "      <th>LoanAmount</th>\n",
       "      <th>Loan_Amount_Term</th>\n",
       "      <th>Credit_History</th>\n",
       "      <th>Property_Area</th>\n",
       "      <th>Loan_Status</th>\n",
       "      <th>Gender_Male</th>\n",
       "      <th>Gender_nan</th>\n",
       "      <th>Married_Yes</th>\n",
       "      <th>Married_nan</th>\n",
       "      <th>Self_Employed_Yes</th>\n",
       "      <th>Self_Employed_nan</th>\n",
       "    </tr>\n",
       "  </thead>\n",
       "  <tbody>\n",
       "    <tr>\n",
       "      <th>609</th>\n",
       "      <td>0.0</td>\n",
       "      <td>Graduate</td>\n",
       "      <td>2900</td>\n",
       "      <td>0.0</td>\n",
       "      <td>71.0</td>\n",
       "      <td>360.0</td>\n",
       "      <td>1.0</td>\n",
       "      <td>Rural</td>\n",
       "      <td>Y</td>\n",
       "      <td>0</td>\n",
       "      <td>0</td>\n",
       "      <td>0</td>\n",
       "      <td>0</td>\n",
       "      <td>0</td>\n",
       "      <td>0</td>\n",
       "    </tr>\n",
       "    <tr>\n",
       "      <th>610</th>\n",
       "      <td>3.0</td>\n",
       "      <td>Graduate</td>\n",
       "      <td>4106</td>\n",
       "      <td>0.0</td>\n",
       "      <td>40.0</td>\n",
       "      <td>180.0</td>\n",
       "      <td>1.0</td>\n",
       "      <td>Rural</td>\n",
       "      <td>Y</td>\n",
       "      <td>1</td>\n",
       "      <td>0</td>\n",
       "      <td>1</td>\n",
       "      <td>0</td>\n",
       "      <td>0</td>\n",
       "      <td>0</td>\n",
       "    </tr>\n",
       "    <tr>\n",
       "      <th>611</th>\n",
       "      <td>1.0</td>\n",
       "      <td>Graduate</td>\n",
       "      <td>8072</td>\n",
       "      <td>240.0</td>\n",
       "      <td>253.0</td>\n",
       "      <td>360.0</td>\n",
       "      <td>1.0</td>\n",
       "      <td>Urban</td>\n",
       "      <td>Y</td>\n",
       "      <td>1</td>\n",
       "      <td>0</td>\n",
       "      <td>1</td>\n",
       "      <td>0</td>\n",
       "      <td>0</td>\n",
       "      <td>0</td>\n",
       "    </tr>\n",
       "    <tr>\n",
       "      <th>612</th>\n",
       "      <td>2.0</td>\n",
       "      <td>Graduate</td>\n",
       "      <td>7583</td>\n",
       "      <td>0.0</td>\n",
       "      <td>187.0</td>\n",
       "      <td>360.0</td>\n",
       "      <td>1.0</td>\n",
       "      <td>Urban</td>\n",
       "      <td>Y</td>\n",
       "      <td>1</td>\n",
       "      <td>0</td>\n",
       "      <td>1</td>\n",
       "      <td>0</td>\n",
       "      <td>0</td>\n",
       "      <td>0</td>\n",
       "    </tr>\n",
       "    <tr>\n",
       "      <th>613</th>\n",
       "      <td>0.0</td>\n",
       "      <td>Graduate</td>\n",
       "      <td>4583</td>\n",
       "      <td>0.0</td>\n",
       "      <td>133.0</td>\n",
       "      <td>360.0</td>\n",
       "      <td>0.0</td>\n",
       "      <td>Semiurban</td>\n",
       "      <td>N</td>\n",
       "      <td>0</td>\n",
       "      <td>0</td>\n",
       "      <td>0</td>\n",
       "      <td>0</td>\n",
       "      <td>1</td>\n",
       "      <td>0</td>\n",
       "    </tr>\n",
       "  </tbody>\n",
       "</table>\n",
       "</div>"
      ],
      "text/plain": [
       "     Dependents Education  ApplicantIncome  CoapplicantIncome  LoanAmount  \\\n",
       "609         0.0  Graduate             2900                0.0        71.0   \n",
       "610         3.0  Graduate             4106                0.0        40.0   \n",
       "611         1.0  Graduate             8072              240.0       253.0   \n",
       "612         2.0  Graduate             7583                0.0       187.0   \n",
       "613         0.0  Graduate             4583                0.0       133.0   \n",
       "\n",
       "     Loan_Amount_Term  Credit_History Property_Area Loan_Status  Gender_Male  \\\n",
       "609             360.0             1.0         Rural           Y            0   \n",
       "610             180.0             1.0         Rural           Y            1   \n",
       "611             360.0             1.0         Urban           Y            1   \n",
       "612             360.0             1.0         Urban           Y            1   \n",
       "613             360.0             0.0     Semiurban           N            0   \n",
       "\n",
       "     Gender_nan  Married_Yes  Married_nan  Self_Employed_Yes  \\\n",
       "609           0            0            0                  0   \n",
       "610           0            1            0                  0   \n",
       "611           0            1            0                  0   \n",
       "612           0            1            0                  0   \n",
       "613           0            0            0                  1   \n",
       "\n",
       "     Self_Employed_nan  \n",
       "609                  0  \n",
       "610                  0  \n",
       "611                  0  \n",
       "612                  0  \n",
       "613                  0  "
      ]
     },
     "execution_count": 6,
     "metadata": {},
     "output_type": "execute_result"
    }
   ],
   "source": [
    "# first one-hot encode the categorical columns with NaNs\n",
    "\n",
    "df = pd.get_dummies(df, columns=['Gender', 'Married', 'Self_Employed'], \n",
    "                        dummy_na=True, \n",
    "                        drop_first=True)\n",
    "df.tail()"
   ]
  },
  {
   "cell_type": "code",
   "execution_count": 7,
   "metadata": {},
   "outputs": [
    {
     "data": {
      "text/html": [
       "<div>\n",
       "<style scoped>\n",
       "    .dataframe tbody tr th:only-of-type {\n",
       "        vertical-align: middle;\n",
       "    }\n",
       "\n",
       "    .dataframe tbody tr th {\n",
       "        vertical-align: top;\n",
       "    }\n",
       "\n",
       "    .dataframe thead th {\n",
       "        text-align: right;\n",
       "    }\n",
       "</style>\n",
       "<table border=\"1\" class=\"dataframe\">\n",
       "  <thead>\n",
       "    <tr style=\"text-align: right;\">\n",
       "      <th></th>\n",
       "      <th>Dependents</th>\n",
       "      <th>ApplicantIncome</th>\n",
       "      <th>CoapplicantIncome</th>\n",
       "      <th>LoanAmount</th>\n",
       "      <th>Loan_Amount_Term</th>\n",
       "      <th>Credit_History</th>\n",
       "      <th>Gender_Male</th>\n",
       "      <th>Gender_nan</th>\n",
       "      <th>Married_Yes</th>\n",
       "      <th>Married_nan</th>\n",
       "      <th>Self_Employed_Yes</th>\n",
       "      <th>Self_Employed_nan</th>\n",
       "      <th>Education_Not Graduate</th>\n",
       "      <th>Property_Area_Semiurban</th>\n",
       "      <th>Property_Area_Urban</th>\n",
       "      <th>Loan_Status_Y</th>\n",
       "    </tr>\n",
       "  </thead>\n",
       "  <tbody>\n",
       "    <tr>\n",
       "      <th>0</th>\n",
       "      <td>0.0</td>\n",
       "      <td>5849</td>\n",
       "      <td>0.0</td>\n",
       "      <td>NaN</td>\n",
       "      <td>360.0</td>\n",
       "      <td>1.0</td>\n",
       "      <td>1</td>\n",
       "      <td>0</td>\n",
       "      <td>0</td>\n",
       "      <td>0</td>\n",
       "      <td>0</td>\n",
       "      <td>0</td>\n",
       "      <td>0</td>\n",
       "      <td>0</td>\n",
       "      <td>1</td>\n",
       "      <td>1</td>\n",
       "    </tr>\n",
       "    <tr>\n",
       "      <th>1</th>\n",
       "      <td>1.0</td>\n",
       "      <td>4583</td>\n",
       "      <td>1508.0</td>\n",
       "      <td>128.0</td>\n",
       "      <td>360.0</td>\n",
       "      <td>1.0</td>\n",
       "      <td>1</td>\n",
       "      <td>0</td>\n",
       "      <td>1</td>\n",
       "      <td>0</td>\n",
       "      <td>0</td>\n",
       "      <td>0</td>\n",
       "      <td>0</td>\n",
       "      <td>0</td>\n",
       "      <td>0</td>\n",
       "      <td>0</td>\n",
       "    </tr>\n",
       "    <tr>\n",
       "      <th>2</th>\n",
       "      <td>0.0</td>\n",
       "      <td>3000</td>\n",
       "      <td>0.0</td>\n",
       "      <td>66.0</td>\n",
       "      <td>360.0</td>\n",
       "      <td>1.0</td>\n",
       "      <td>1</td>\n",
       "      <td>0</td>\n",
       "      <td>1</td>\n",
       "      <td>0</td>\n",
       "      <td>1</td>\n",
       "      <td>0</td>\n",
       "      <td>0</td>\n",
       "      <td>0</td>\n",
       "      <td>1</td>\n",
       "      <td>1</td>\n",
       "    </tr>\n",
       "    <tr>\n",
       "      <th>3</th>\n",
       "      <td>0.0</td>\n",
       "      <td>2583</td>\n",
       "      <td>2358.0</td>\n",
       "      <td>120.0</td>\n",
       "      <td>360.0</td>\n",
       "      <td>1.0</td>\n",
       "      <td>1</td>\n",
       "      <td>0</td>\n",
       "      <td>1</td>\n",
       "      <td>0</td>\n",
       "      <td>0</td>\n",
       "      <td>0</td>\n",
       "      <td>1</td>\n",
       "      <td>0</td>\n",
       "      <td>1</td>\n",
       "      <td>1</td>\n",
       "    </tr>\n",
       "    <tr>\n",
       "      <th>4</th>\n",
       "      <td>0.0</td>\n",
       "      <td>6000</td>\n",
       "      <td>0.0</td>\n",
       "      <td>141.0</td>\n",
       "      <td>360.0</td>\n",
       "      <td>1.0</td>\n",
       "      <td>1</td>\n",
       "      <td>0</td>\n",
       "      <td>0</td>\n",
       "      <td>0</td>\n",
       "      <td>0</td>\n",
       "      <td>0</td>\n",
       "      <td>0</td>\n",
       "      <td>0</td>\n",
       "      <td>1</td>\n",
       "      <td>1</td>\n",
       "    </tr>\n",
       "  </tbody>\n",
       "</table>\n",
       "</div>"
      ],
      "text/plain": [
       "   Dependents  ApplicantIncome  CoapplicantIncome  LoanAmount  \\\n",
       "0         0.0             5849                0.0         NaN   \n",
       "1         1.0             4583             1508.0       128.0   \n",
       "2         0.0             3000                0.0        66.0   \n",
       "3         0.0             2583             2358.0       120.0   \n",
       "4         0.0             6000                0.0       141.0   \n",
       "\n",
       "   Loan_Amount_Term  Credit_History  Gender_Male  Gender_nan  Married_Yes  \\\n",
       "0             360.0             1.0            1           0            0   \n",
       "1             360.0             1.0            1           0            1   \n",
       "2             360.0             1.0            1           0            1   \n",
       "3             360.0             1.0            1           0            1   \n",
       "4             360.0             1.0            1           0            0   \n",
       "\n",
       "   Married_nan  Self_Employed_Yes  Self_Employed_nan  Education_Not Graduate  \\\n",
       "0            0                  0                  0                       0   \n",
       "1            0                  0                  0                       0   \n",
       "2            0                  1                  0                       0   \n",
       "3            0                  0                  0                       1   \n",
       "4            0                  0                  0                       0   \n",
       "\n",
       "   Property_Area_Semiurban  Property_Area_Urban  Loan_Status_Y  \n",
       "0                        0                    1              1  \n",
       "1                        0                    0              0  \n",
       "2                        0                    1              1  \n",
       "3                        0                    1              1  \n",
       "4                        0                    1              1  "
      ]
     },
     "execution_count": 7,
     "metadata": {},
     "output_type": "execute_result"
    }
   ],
   "source": [
    "# now one-hot encode all other categorical columns\n",
    "\n",
    "df = pd.get_dummies(df, drop_first=True)\n",
    "df.head()"
   ]
  },
  {
   "cell_type": "markdown",
   "metadata": {},
   "source": [
    "## C. Treatment of Missing Values in Numerical Columns"
   ]
  },
  {
   "cell_type": "markdown",
   "metadata": {},
   "source": [
    "### Check for Missing Values\n",
    "\n",
    "It is often useful to impute missing values as many ML algorithms do not work with missing data and even if they do, imputing these values often helps to build a more accurate predictive model."
   ]
  },
  {
   "cell_type": "code",
   "execution_count": 8,
   "metadata": {},
   "outputs": [
    {
     "data": {
      "text/plain": [
       "Dependents                 15\n",
       "ApplicantIncome             0\n",
       "CoapplicantIncome           0\n",
       "LoanAmount                 22\n",
       "Loan_Amount_Term           14\n",
       "Credit_History             50\n",
       "Gender_Male                 0\n",
       "Gender_nan                  0\n",
       "Married_Yes                 0\n",
       "Married_nan                 0\n",
       "Self_Employed_Yes           0\n",
       "Self_Employed_nan           0\n",
       "Education_Not Graduate      0\n",
       "Property_Area_Semiurban     0\n",
       "Property_Area_Urban         0\n",
       "Loan_Status_Y               0\n",
       "dtype: int64"
      ]
     },
     "execution_count": 8,
     "metadata": {},
     "output_type": "execute_result"
    }
   ],
   "source": [
    "# Find the number of nulls/NaNs in the dataset\n",
    "\n",
    "df.isna().sum()"
   ]
  },
  {
   "cell_type": "markdown",
   "metadata": {},
   "source": [
    "Note that missing values may not always be NaNs. For instance, if `Loan_Amount_Term` had zeros, would they make sense or should they be considered missing? That is, we need to understand the dataset well in order to identify which values are missing.\n",
    "\n",
    "Note also that no column has more than 25% missing values. Thus, we do not need to consider dropping whole columns."
   ]
  },
  {
   "cell_type": "markdown",
   "metadata": {},
   "source": [
    "### Impute Missing Values"
   ]
  },
  {
   "cell_type": "markdown",
   "metadata": {},
   "source": [
    "There are numerous ways to impute (i.e., fill in) the missing values in a numerical column, e.g. column `LoanAmount` – the simplest being replacement by mean, which can be done with the following code:"
   ]
  },
  {
   "cell_type": "markdown",
   "metadata": {},
   "source": [
    "```pyton\n",
    "df['LoanAmount'].fillna(df['LoanAmount'].mean(), inplace=True)\n",
    "```"
   ]
  },
  {
   "cell_type": "markdown",
   "metadata": {},
   "source": [
    "Imputing missing values with the mean (alternatively, the media, the most frequent, or a constant) may introduce bias in the dataset. A better method is to build an ML model (typically, kNN) to predict `LoanAmount` on the basis of other columns.\n",
    "\n",
    "Since, the purpose now is to practice data munging prior applying ML algorithms, we can take an approach, which lies somewhere in between these 2 extremes. We may hypothesise that attributes `Education` and `Self_Employed` combined can give a good estimate of `LoanAmount`.\n",
    "\n",
    "First, let us look at the following boxplots to see if a trend exists:"
   ]
  },
  {
   "cell_type": "code",
   "execution_count": 9,
   "metadata": {},
   "outputs": [
    {
     "data": {
      "image/png": "[encoded data removed]",
      "text/plain": [
       "<Figure size 432x288 with 1 Axes>"
      ]
     },
     "metadata": {
      "needs_background": "light"
     },
     "output_type": "display_data"
    }
   ],
   "source": [
    "df.boxplot(column='LoanAmount', by=['Education_Not Graduate','Self_Employed_Yes'], rot=45)\n",
    "plt.title(\"\")\n",
    "plt.show()"
   ]
  },
  {
   "cell_type": "markdown",
   "metadata": {},
   "source": [
    "We can see some variation in the median of `LoanAmount` for each group and these medians can be used for imputing the missing values in each group. Next, we create a pivot table, which contains the median values for all four groups."
   ]
  },
  {
   "cell_type": "code",
   "execution_count": 10,
   "metadata": {},
   "outputs": [
    {
     "data": {
      "text/html": [
       "<div>\n",
       "<style scoped>\n",
       "    .dataframe tbody tr th:only-of-type {\n",
       "        vertical-align: middle;\n",
       "    }\n",
       "\n",
       "    .dataframe tbody tr th {\n",
       "        vertical-align: top;\n",
       "    }\n",
       "\n",
       "    .dataframe thead th {\n",
       "        text-align: right;\n",
       "    }\n",
       "</style>\n",
       "<table border=\"1\" class=\"dataframe\">\n",
       "  <thead>\n",
       "    <tr style=\"text-align: right;\">\n",
       "      <th>Education_Not Graduate</th>\n",
       "      <th>0</th>\n",
       "      <th>1</th>\n",
       "    </tr>\n",
       "    <tr>\n",
       "      <th>Self_Employed_Yes</th>\n",
       "      <th></th>\n",
       "      <th></th>\n",
       "    </tr>\n",
       "  </thead>\n",
       "  <tbody>\n",
       "    <tr>\n",
       "      <th>0</th>\n",
       "      <td>130.0</td>\n",
       "      <td>113.0</td>\n",
       "    </tr>\n",
       "    <tr>\n",
       "      <th>1</th>\n",
       "      <td>157.5</td>\n",
       "      <td>130.0</td>\n",
       "    </tr>\n",
       "  </tbody>\n",
       "</table>\n",
       "</div>"
      ],
      "text/plain": [
       "Education_Not Graduate      0      1\n",
       "Self_Employed_Yes                   \n",
       "0                       130.0  113.0\n",
       "1                       157.5  130.0"
      ]
     },
     "execution_count": 10,
     "metadata": {},
     "output_type": "execute_result"
    }
   ],
   "source": [
    "ptable = df.pivot_table(values='LoanAmount', \n",
    "                        index='Self_Employed_Yes',\n",
    "                        columns='Education_Not Graduate',  \n",
    "                        aggfunc=np.median)\n",
    "ptable"
   ]
  },
  {
   "cell_type": "markdown",
   "metadata": {},
   "source": [
    "Finally, we define a function, which returns the values in the pivot table and apply it to fill the missing values of `LoanAmount`."
   ]
  },
  {
   "cell_type": "code",
   "execution_count": 11,
   "metadata": {},
   "outputs": [
    {
     "name": "stdout",
     "output_type": "stream",
     "text": [
      "fff Dependents                    0.0\n",
      "ApplicantIncome            5849.0\n",
      "CoapplicantIncome             0.0\n",
      "LoanAmount                    NaN\n",
      "Loan_Amount_Term            360.0\n",
      "Credit_History                1.0\n",
      "Gender_Male                   1.0\n",
      "Gender_nan                    0.0\n",
      "Married_Yes                   0.0\n",
      "Married_nan                   0.0\n",
      "Self_Employed_Yes             0.0\n",
      "Self_Employed_nan             0.0\n",
      "Education_Not Graduate        0.0\n",
      "Property_Area_Semiurban       0.0\n",
      "Property_Area_Urban           1.0\n",
      "Loan_Status_Y                 1.0\n",
      "Name: 0, dtype: float64\n",
      "fff Dependents                    0.0\n",
      "ApplicantIncome            2275.0\n",
      "CoapplicantIncome          2067.0\n",
      "LoanAmount                    NaN\n",
      "Loan_Amount_Term            360.0\n",
      "Credit_History                1.0\n",
      "Gender_Male                   1.0\n",
      "Gender_nan                    0.0\n",
      "Married_Yes                   1.0\n",
      "Married_nan                   0.0\n",
      "Self_Employed_Yes             0.0\n",
      "Self_Employed_nan             0.0\n",
      "Education_Not Graduate        0.0\n",
      "Property_Area_Semiurban       0.0\n",
      "Property_Area_Urban           1.0\n",
      "Loan_Status_Y                 1.0\n",
      "Name: 35, dtype: float64\n",
      "fff Dependents                    1.0\n",
      "ApplicantIncome            4945.0\n",
      "CoapplicantIncome             0.0\n",
      "LoanAmount                    NaN\n",
      "Loan_Amount_Term            360.0\n",
      "Credit_History                0.0\n",
      "Gender_Male                   1.0\n",
      "Gender_nan                    0.0\n",
      "Married_Yes                   1.0\n",
      "Married_nan                   0.0\n",
      "Self_Employed_Yes             0.0\n",
      "Self_Employed_nan             0.0\n",
      "Education_Not Graduate        0.0\n",
      "Property_Area_Semiurban       0.0\n",
      "Property_Area_Urban           0.0\n",
      "Loan_Status_Y                 0.0\n",
      "Name: 63, dtype: float64\n",
      "fff Dependents                    1.0\n",
      "ApplicantIncome            2395.0\n",
      "CoapplicantIncome             0.0\n",
      "LoanAmount                    NaN\n",
      "Loan_Amount_Term            360.0\n",
      "Credit_History                1.0\n",
      "Gender_Male                   1.0\n",
      "Gender_nan                    0.0\n",
      "Married_Yes                   1.0\n",
      "Married_nan                   0.0\n",
      "Self_Employed_Yes             1.0\n",
      "Self_Employed_nan             0.0\n",
      "Education_Not Graduate        0.0\n",
      "Property_Area_Semiurban       1.0\n",
      "Property_Area_Urban           0.0\n",
      "Loan_Status_Y                 1.0\n",
      "Name: 81, dtype: float64\n",
      "fff Dependents                    0.0\n",
      "ApplicantIncome            6782.0\n",
      "CoapplicantIncome             0.0\n",
      "LoanAmount                    NaN\n",
      "Loan_Amount_Term            360.0\n",
      "Credit_History                NaN\n",
      "Gender_Male                   1.0\n",
      "Gender_nan                    0.0\n",
      "Married_Yes                   0.0\n",
      "Married_nan                   0.0\n",
      "Self_Employed_Yes             0.0\n",
      "Self_Employed_nan             1.0\n",
      "Education_Not Graduate        0.0\n",
      "Property_Area_Semiurban       0.0\n",
      "Property_Area_Urban           1.0\n",
      "Loan_Status_Y                 0.0\n",
      "Name: 95, dtype: float64\n",
      "fff Dependents                     NaN\n",
      "ApplicantIncome            13650.0\n",
      "CoapplicantIncome              0.0\n",
      "LoanAmount                     NaN\n",
      "Loan_Amount_Term             360.0\n",
      "Credit_History                 1.0\n",
      "Gender_Male                    1.0\n",
      "Gender_nan                     0.0\n",
      "Married_Yes                    1.0\n",
      "Married_nan                    0.0\n",
      "Self_Employed_Yes              0.0\n",
      "Self_Employed_nan              0.0\n",
      "Education_Not Graduate         0.0\n",
      "Property_Area_Semiurban        0.0\n",
      "Property_Area_Urban            1.0\n",
      "Loan_Status_Y                  1.0\n",
      "Name: 102, dtype: float64\n",
      "fff Dependents                    0.0\n",
      "ApplicantIncome            4652.0\n",
      "CoapplicantIncome          3583.0\n",
      "LoanAmount                    NaN\n",
      "Loan_Amount_Term            360.0\n",
      "Credit_History                1.0\n",
      "Gender_Male                   1.0\n",
      "Gender_nan                    0.0\n",
      "Married_Yes                   1.0\n",
      "Married_nan                   0.0\n",
      "Self_Employed_Yes             0.0\n",
      "Self_Employed_nan             0.0\n",
      "Education_Not Graduate        0.0\n",
      "Property_Area_Semiurban       1.0\n",
      "Property_Area_Urban           0.0\n",
      "Loan_Status_Y                 1.0\n",
      "Name: 103, dtype: float64\n",
      "fff Dependents                    1.0\n",
      "ApplicantIncome            7451.0\n",
      "CoapplicantIncome             0.0\n",
      "LoanAmount                    NaN\n",
      "Loan_Amount_Term            360.0\n",
      "Credit_History                1.0\n",
      "Gender_Male                   0.0\n",
      "Gender_nan                    0.0\n",
      "Married_Yes                   0.0\n",
      "Married_nan                   0.0\n",
      "Self_Employed_Yes             1.0\n",
      "Self_Employed_nan             0.0\n",
      "Education_Not Graduate        0.0\n",
      "Property_Area_Semiurban       1.0\n",
      "Property_Area_Urban           0.0\n",
      "Loan_Status_Y                 1.0\n",
      "Name: 113, dtype: float64\n",
      "fff Dependents                    0.0\n",
      "ApplicantIncome            3865.0\n",
      "CoapplicantIncome          1640.0\n",
      "LoanAmount                    NaN\n",
      "Loan_Amount_Term            360.0\n",
      "Credit_History                1.0\n",
      "Gender_Male                   1.0\n",
      "Gender_nan                    0.0\n",
      "Married_Yes                   0.0\n",
      "Married_nan                   0.0\n",
      "Self_Employed_Yes             0.0\n",
      "Self_Employed_nan             0.0\n",
      "Education_Not Graduate        0.0\n",
      "Property_Area_Semiurban       0.0\n",
      "Property_Area_Urban           0.0\n",
      "Loan_Status_Y                 1.0\n",
      "Name: 127, dtype: float64\n",
      "fff Dependents                    3.0\n",
      "ApplicantIncome            3992.0\n",
      "CoapplicantIncome             0.0\n",
      "LoanAmount                    NaN\n",
      "Loan_Amount_Term            180.0\n",
      "Credit_History                1.0\n",
      "Gender_Male                   1.0\n",
      "Gender_nan                    0.0\n",
      "Married_Yes                   1.0\n",
      "Married_nan                   0.0\n",
      "Self_Employed_Yes             0.0\n",
      "Self_Employed_nan             0.0\n",
      "Education_Not Graduate        1.0\n",
      "Property_Area_Semiurban       0.0\n",
      "Property_Area_Urban           1.0\n",
      "Loan_Status_Y                 0.0\n",
      "Name: 202, dtype: float64\n",
      "fff Dependents                     0.0\n",
      "ApplicantIncome            20667.0\n",
      "CoapplicantIncome              0.0\n",
      "LoanAmount                     NaN\n",
      "Loan_Amount_Term             360.0\n",
      "Credit_History                 1.0\n",
      "Gender_Male                    1.0\n",
      "Gender_nan                     0.0\n",
      "Married_Yes                    1.0\n",
      "Married_nan                    0.0\n",
      "Self_Employed_Yes              0.0\n",
      "Self_Employed_nan              0.0\n",
      "Education_Not Graduate         0.0\n",
      "Property_Area_Semiurban        0.0\n",
      "Property_Area_Urban            0.0\n",
      "Loan_Status_Y                  0.0\n",
      "Name: 284, dtype: float64\n",
      "fff Dependents                    0.0\n",
      "ApplicantIncome            2000.0\n",
      "CoapplicantIncome             0.0\n",
      "LoanAmount                    NaN\n",
      "Loan_Amount_Term            360.0\n",
      "Credit_History                1.0\n",
      "Gender_Male                   1.0\n",
      "Gender_nan                    0.0\n",
      "Married_Yes                   0.0\n",
      "Married_nan                   0.0\n",
      "Self_Employed_Yes             0.0\n",
      "Self_Employed_nan             0.0\n",
      "Education_Not Graduate        1.0\n",
      "Property_Area_Semiurban       0.0\n",
      "Property_Area_Urban           1.0\n",
      "Loan_Status_Y                 0.0\n",
      "Name: 305, dtype: float64\n",
      "fff Dependents                    2.0\n",
      "ApplicantIncome            3601.0\n",
      "CoapplicantIncome          1590.0\n",
      "LoanAmount                    NaN\n",
      "Loan_Amount_Term            360.0\n",
      "Credit_History                1.0\n",
      "Gender_Male                   1.0\n",
      "Gender_nan                    0.0\n",
      "Married_Yes                   1.0\n",
      "Married_nan                   0.0\n",
      "Self_Employed_Yes             0.0\n",
      "Self_Employed_nan             0.0\n",
      "Education_Not Graduate        1.0\n",
      "Property_Area_Semiurban       0.0\n",
      "Property_Area_Urban           0.0\n",
      "Loan_Status_Y                 1.0\n",
      "Name: 322, dtype: float64\n",
      "fff Dependents                    3.0\n",
      "ApplicantIncome            1830.0\n",
      "CoapplicantIncome             0.0\n",
      "LoanAmount                    NaN\n",
      "Loan_Amount_Term            360.0\n",
      "Credit_History                0.0\n",
      "Gender_Male                   0.0\n",
      "Gender_nan                    0.0\n",
      "Married_Yes                   0.0\n",
      "Married_nan                   0.0\n",
      "Self_Employed_Yes             0.0\n",
      "Self_Employed_nan             0.0\n",
      "Education_Not Graduate        1.0\n",
      "Property_Area_Semiurban       0.0\n",
      "Property_Area_Urban           1.0\n",
      "Loan_Status_Y                 0.0\n",
      "Name: 338, dtype: float64\n",
      "fff Dependents                    0.0\n",
      "ApplicantIncome            3010.0\n",
      "CoapplicantIncome          3136.0\n",
      "LoanAmount                    NaN\n",
      "Loan_Amount_Term            360.0\n",
      "Credit_History                0.0\n",
      "Gender_Male                   1.0\n",
      "Gender_nan                    0.0\n",
      "Married_Yes                   1.0\n",
      "Married_nan                   0.0\n",
      "Self_Employed_Yes             0.0\n",
      "Self_Employed_nan             0.0\n",
      "Education_Not Graduate        1.0\n",
      "Property_Area_Semiurban       0.0\n",
      "Property_Area_Urban           1.0\n",
      "Loan_Status_Y                 0.0\n",
      "Name: 387, dtype: float64\n",
      "fff Dependents                     NaN\n",
      "ApplicantIncome            10047.0\n",
      "CoapplicantIncome              0.0\n",
      "LoanAmount                     NaN\n",
      "Loan_Amount_Term             240.0\n",
      "Credit_History                 1.0\n",
      "Gender_Male                    0.0\n",
      "Gender_nan                     0.0\n",
      "Married_Yes                    0.0\n",
      "Married_nan                    1.0\n",
      "Self_Employed_Yes              0.0\n",
      "Self_Employed_nan              0.0\n",
      "Education_Not Graduate         0.0\n",
      "Property_Area_Semiurban        1.0\n",
      "Property_Area_Urban            0.0\n",
      "Loan_Status_Y                  1.0\n",
      "Name: 435, dtype: float64\n",
      "fff Dependents                    0.0\n",
      "ApplicantIncome            2213.0\n",
      "CoapplicantIncome          1125.0\n",
      "LoanAmount                    NaN\n",
      "Loan_Amount_Term            360.0\n",
      "Credit_History                1.0\n",
      "Gender_Male                   1.0\n",
      "Gender_nan                    0.0\n",
      "Married_Yes                   1.0\n",
      "Married_nan                   0.0\n",
      "Self_Employed_Yes             0.0\n",
      "Self_Employed_nan             0.0\n",
      "Education_Not Graduate        0.0\n",
      "Property_Area_Semiurban       0.0\n",
      "Property_Area_Urban           1.0\n",
      "Loan_Status_Y                 1.0\n",
      "Name: 437, dtype: float64\n",
      "fff Dependents                    2.0\n",
      "ApplicantIncome            2947.0\n",
      "CoapplicantIncome          1603.0\n",
      "LoanAmount                    NaN\n",
      "Loan_Amount_Term            360.0\n",
      "Credit_History                1.0\n",
      "Gender_Male                   1.0\n",
      "Gender_nan                    0.0\n",
      "Married_Yes                   1.0\n",
      "Married_nan                   0.0\n",
      "Self_Employed_Yes             0.0\n",
      "Self_Employed_nan             0.0\n",
      "Education_Not Graduate        0.0\n",
      "Property_Area_Semiurban       0.0\n",
      "Property_Area_Urban           1.0\n",
      "Loan_Status_Y                 0.0\n",
      "Name: 479, dtype: float64\n",
      "fff Dependents                    0.0\n",
      "ApplicantIncome            4680.0\n",
      "CoapplicantIncome          2087.0\n",
      "LoanAmount                    NaN\n",
      "Loan_Amount_Term            360.0\n",
      "Credit_History                1.0\n",
      "Gender_Male                   1.0\n",
      "Gender_nan                    0.0\n",
      "Married_Yes                   0.0\n",
      "Married_nan                   0.0\n",
      "Self_Employed_Yes             0.0\n",
      "Self_Employed_nan             0.0\n",
      "Education_Not Graduate        0.0\n",
      "Property_Area_Semiurban       1.0\n",
      "Property_Area_Urban           0.0\n",
      "Loan_Status_Y                 0.0\n",
      "Name: 524, dtype: float64\n",
      "fff Dependents                    2.0\n",
      "ApplicantIncome            6633.0\n",
      "CoapplicantIncome             0.0\n",
      "LoanAmount                    NaN\n",
      "Loan_Amount_Term            360.0\n",
      "Credit_History                0.0\n",
      "Gender_Male                   1.0\n",
      "Gender_nan                    0.0\n",
      "Married_Yes                   1.0\n",
      "Married_nan                   0.0\n",
      "Self_Employed_Yes             1.0\n",
      "Self_Employed_nan             0.0\n",
      "Education_Not Graduate        0.0\n",
      "Property_Area_Semiurban       0.0\n",
      "Property_Area_Urban           0.0\n",
      "Loan_Status_Y                 0.0\n",
      "Name: 550, dtype: float64\n",
      "fff Dependents                    1.0\n",
      "ApplicantIncome            2492.0\n",
      "CoapplicantIncome          2375.0\n",
      "LoanAmount                    NaN\n",
      "Loan_Amount_Term            360.0\n",
      "Credit_History                1.0\n",
      "Gender_Male                   1.0\n",
      "Gender_nan                    0.0\n",
      "Married_Yes                   1.0\n",
      "Married_nan                   0.0\n",
      "Self_Employed_Yes             0.0\n",
      "Self_Employed_nan             0.0\n",
      "Education_Not Graduate        1.0\n",
      "Property_Area_Semiurban       0.0\n",
      "Property_Area_Urban           0.0\n",
      "Loan_Status_Y                 1.0\n",
      "Name: 551, dtype: float64\n",
      "fff Dependents                    0.0\n",
      "ApplicantIncome            2400.0\n",
      "CoapplicantIncome          3800.0\n",
      "LoanAmount                    NaN\n",
      "Loan_Amount_Term            180.0\n",
      "Credit_History                1.0\n",
      "Gender_Male                   1.0\n",
      "Gender_nan                    0.0\n",
      "Married_Yes                   1.0\n",
      "Married_nan                   0.0\n",
      "Self_Employed_Yes             0.0\n",
      "Self_Employed_nan             0.0\n",
      "Education_Not Graduate        1.0\n",
      "Property_Area_Semiurban       0.0\n",
      "Property_Area_Urban           1.0\n",
      "Loan_Status_Y                 0.0\n",
      "Name: 605, dtype: float64\n"
     ]
    }
   ],
   "source": [
    "# Define function to return an element of the pivot table\n",
    "def get_element(x):\n",
    "    print(\"fff\", x)\n",
    "    return ptable.loc[x['Self_Employed_Yes'], x['Education_Not Graduate']]\n",
    "\n",
    "# Replace missing values\n",
    "df['LoanAmount'].fillna(df[df['LoanAmount'].isnull()].apply(get_element, axis=1), inplace=True)"
   ]
  },
  {
   "cell_type": "markdown",
   "metadata": {},
   "source": [
    "Let's take a simplified approach for `Dependents`, `Loan_Amount_Term` and `Credit_History` and fill in the missing values in these columns with the median. Note that the median is likely a better choice than the mean for these columns because the means are not likely to be realistic values."
   ]
  },
  {
   "cell_type": "code",
   "execution_count": 12,
   "metadata": {},
   "outputs": [],
   "source": [
    "df['Dependents'].fillna(df['Dependents'].median(), inplace=True)\n",
    "df['Loan_Amount_Term'].fillna(df['Loan_Amount_Term'].median(), inplace=True)\n",
    "df['Credit_History'].fillna(df['Credit_History'].median(), inplace=True)"
   ]
  },
  {
   "cell_type": "markdown",
   "metadata": {},
   "source": [
    "## D. Rescaling Features"
   ]
  },
  {
   "cell_type": "markdown",
   "metadata": {},
   "source": [
    "Many ML algorithms assume that all numerical features are on the same scale. Two standard techniques in the Python module `scikit-learn` for achieving this are:\n",
    "* MinMaxScaler - rescales a column to the interval [0,1]\n",
    "* StandardScaler - rescales a numerical column so that it has mean 0 and standard deviation 1.\n",
    "\n",
    "Here we use a third technique, called `RobustScaler` to `LoanAmount` and `ApplicantIncome` which does a better job in the presence of outliers (we observed outliers in columns `LoanAmount` and `ApplicantIncome`). `RobustScaler` transforms each value in a column by subtracting the median from it and then dividing by the interquartile range.\n",
    "\n",
    "We will deal with `CoapplicantIncome` and `Loan_Amount_Term` later. Note that all other attributes are binary."
   ]
  },
  {
   "cell_type": "code",
   "execution_count": 13,
   "metadata": {},
   "outputs": [],
   "source": [
    "robust_scaler = RobustScaler()\n",
    "df[['ApplicantIncome',\n",
    "    'LoanAmount']] = robust_scaler.fit_transform(df[['ApplicantIncome',\n",
    "                                                     'LoanAmount']])"
   ]
  },
  {
   "cell_type": "markdown",
   "metadata": {},
   "source": [
    "To bring column `Dependents` to the interval $[0,1]$ we can simply divide it by 3, as it is an ordinal columns with four possible values: 0, 1, 2 and 3."
   ]
  },
  {
   "cell_type": "code",
   "execution_count": 14,
   "metadata": {},
   "outputs": [],
   "source": [
    "df['Dependents'] = df['Dependents']/3"
   ]
  },
  {
   "cell_type": "markdown",
   "metadata": {},
   "source": [
    "## E. Treatment of Outliers"
   ]
  },
  {
   "cell_type": "markdown",
   "metadata": {},
   "source": [
    "#### `ApplicantIncome` and `LoanAmount`\n",
    "\n",
    "In the previous lab exercise, we observed that `ApplicantIncome` and `LoanAmount` contain some extreme values. Let's take a look at the box plots of `ApplicantIncome`,`LoanAmount` to verify that they have outliers. We will deal with `CoapplicantIncome` and `Loan_Amount_Term` later. All other columns do not have outliers."
   ]
  },
  {
   "cell_type": "code",
   "execution_count": 15,
   "metadata": {},
   "outputs": [
    {
     "data": {
      "image/png": "[encoded data removed]",
      "text/plain": [
       "<Figure size 432x288 with 1 Axes>"
      ]
     },
     "metadata": {},
     "output_type": "display_data"
    }
   ],
   "source": [
    "df.boxplot(column=['ApplicantIncome','LoanAmount'])\n",
    "plt.show()"
   ]
  },
  {
   "cell_type": "markdown",
   "metadata": {},
   "source": [
    "Let's also take a look at their histograms after we have rescaled them."
   ]
  },
  {
   "cell_type": "code",
   "execution_count": 16,
   "metadata": {},
   "outputs": [
    {
     "data": {
      "image/png": "[encoded data removed]",
      "text/plain": [
       "<Figure size 1152x288 with 2 Axes>"
      ]
     },
     "metadata": {},
     "output_type": "display_data"
    }
   ],
   "source": [
    "# Create figure with two subplots\n",
    "fig = plt.figure(figsize=(16,4))\n",
    "\n",
    "# Plot ApplicantIncome\n",
    "ax1 = fig.add_subplot(1, 2, 1)\n",
    "ax1.set_title(\"Histogram of ApplicantIncome\")\n",
    "ax1.set_xlabel('ApplicantIncome')\n",
    "ax1.set_ylabel('Number of Applicants')\n",
    "df['ApplicantIncome'].hist(bins=20)\n",
    "\n",
    "# Plot LoanAmount\n",
    "ax3 = fig.add_subplot(1, 2, 2)\n",
    "ax3.set_title(\"Histogram of LoanAmount\")\n",
    "ax3.set_xlabel('LoanAmount')\n",
    "ax3.set_ylabel('Number of Applicants')\n",
    "df['LoanAmount'].hist(bins=20)\n",
    "\n",
    "plt.show()"
   ]
  },
  {
   "cell_type": "markdown",
   "metadata": {},
   "source": [
    "Both histograms are skewed to the left, which is not ideal. Many ML algorithms work best when the features are not skewed to either side."
   ]
  },
  {
   "cell_type": "markdown",
   "metadata": {},
   "source": [
    "Finally, before treating the outliers, let's find the minimum values in these columns."
   ]
  },
  {
   "cell_type": "code",
   "execution_count": 17,
   "metadata": {},
   "outputs": [
    {
     "data": {
      "text/plain": [
       "ApplicantIncome   -1.255356\n",
       "LoanAmount        -1.844961\n",
       "dtype: float64"
      ]
     },
     "execution_count": 17,
     "metadata": {},
     "output_type": "execute_result"
    }
   ],
   "source": [
    "df[['ApplicantIncome', 'LoanAmount']].min()"
   ]
  },
  {
   "cell_type": "markdown",
   "metadata": {},
   "source": [
    "Since the extreme values are practically possible in both columns, i.e. some people might have large income and also apply for high-value loans, instead of ignoring the data rows with extreme values we can transform them to diminish the negative impact of outliers to ML models. A typical way to do this is to apply a log transformation. However, we do have negative values in both columns after rescaling and we need to add a constant to all values in order to shift them to a positive range before applying a log transformation. \n",
    "\n",
    "Here we are have chosen to shift the values to the interval $[1, +\\infty]$ before applying a log transformation."
   ]
  },
  {
   "cell_type": "code",
   "execution_count": 18,
   "metadata": {},
   "outputs": [],
   "source": [
    "# Use a log transformation to decrease the impact of outliers\n",
    "df['ApplicantIncome'] = np.log(df['ApplicantIncome']+2.26)\n",
    "df['LoanAmount'] = np.log(df['LoanAmount']+2.85)"
   ]
  },
  {
   "cell_type": "markdown",
   "metadata": {},
   "source": [
    "Let's plot again."
   ]
  },
  {
   "cell_type": "code",
   "execution_count": 19,
   "metadata": {},
   "outputs": [
    {
     "data": {
      "image/png": "[encoded data removed]",
      "text/plain": [
       "<Figure size 1152x288 with 2 Axes>"
      ]
     },
     "metadata": {},
     "output_type": "display_data"
    }
   ],
   "source": [
    "# Create figure with two subplots\n",
    "fig = plt.figure(figsize=(16,4))\n",
    "\n",
    "# Plot ApplicantIncome\n",
    "ax1 = fig.add_subplot(1, 2, 1)\n",
    "ax1.set_title(\"Histogram of ApplicantIncome Transformed\")\n",
    "ax1.set_xlabel('ApplicantIncome')\n",
    "ax1.set_ylabel('Number of Applicants')\n",
    "df['ApplicantIncome'].hist(bins=20)\n",
    "\n",
    "# Plot LoanAmount\n",
    "ax3 = fig.add_subplot(1, 2, 2)\n",
    "ax3.set_title(\"Histogram of LoanAmount Transformed\")\n",
    "ax3.set_xlabel('LoanAmount')\n",
    "ax3.set_ylabel('Number of Applicants')\n",
    "df['LoanAmount'].hist(bins=20)\n",
    "\n",
    "plt.show()"
   ]
  },
  {
   "cell_type": "markdown",
   "metadata": {},
   "source": [
    "The histograms show that the transformed features are less skewed and have distributions closer to normal than the original features `LoanAmount` and `ApplicantIncome`."
   ]
  },
  {
   "cell_type": "markdown",
   "metadata": {},
   "source": [
    "#### `Loan_Amount_Term`"
   ]
  },
  {
   "cell_type": "markdown",
   "metadata": {},
   "source": [
    "Let's examine the distribution of values in `Loan_Amount_Term`. "
   ]
  },
  {
   "cell_type": "code",
   "execution_count": 20,
   "metadata": {},
   "outputs": [
    {
     "data": {
      "text/plain": [
       "360.0    526\n",
       "180.0     44\n",
       "480.0     15\n",
       "300.0     13\n",
       "84.0       4\n",
       "240.0      4\n",
       "120.0      3\n",
       "36.0       2\n",
       "60.0       2\n",
       "12.0       1\n",
       "Name: Loan_Amount_Term, dtype: int64"
      ]
     },
     "execution_count": 20,
     "metadata": {},
     "output_type": "execute_result"
    }
   ],
   "source": [
    "df['Loan_Amount_Term'].value_counts()"
   ]
  },
  {
   "cell_type": "markdown",
   "metadata": {},
   "source": [
    "Note that `Loan_Amount_Term` is rather an ordinal than a continuous numerical feature with more than 80% of its values being 360.0. None of its values appear to be actual outliers. To bring it to the interval $[0,1]$ we can divide all values by 480 (effectively applying MinMaxScaler to it). If we applied RobustScaler and/or log transformation to it instead then it would become even more skewed to the right (you may verify this)."
   ]
  },
  {
   "cell_type": "code",
   "execution_count": 21,
   "metadata": {},
   "outputs": [
    {
     "data": {
      "image/png": "[encoded data removed]",
      "text/plain": [
       "<Figure size 432x288 with 1 Axes>"
      ]
     },
     "metadata": {},
     "output_type": "display_data"
    }
   ],
   "source": [
    "df['Loan_Amount_Term'] = df['Loan_Amount_Term']/480\n",
    "df['Loan_Amount_Term'].hist(bins=20)\n",
    "plt.show()"
   ]
  },
  {
   "cell_type": "markdown",
   "metadata": {},
   "source": [
    "## F. Creation of Derived Features"
   ]
  },
  {
   "cell_type": "markdown",
   "metadata": {},
   "source": [
    "Column `CoapplicantIncome` contains many zeros which can be interpreted as `there is no co-applicant with income greater than 0`. The zeros are *missing values* which should not be filled in because they are missing for a reason. On the other hand, they skew the feature towards 0 and this cannot be easily fixed with a log transformation."
   ]
  },
  {
   "cell_type": "code",
   "execution_count": 22,
   "metadata": {},
   "outputs": [
    {
     "data": {
      "image/png": "[encoded data removed]",
      "text/plain": [
       "<Figure size 432x288 with 1 Axes>"
      ]
     },
     "metadata": {},
     "output_type": "display_data"
    }
   ],
   "source": [
    "df['CoapplicantIncome'].hist(bins=20)\n",
    "plt.show()"
   ]
  },
  {
   "cell_type": "code",
   "execution_count": 23,
   "metadata": {},
   "outputs": [
    {
     "data": {
      "image/png": "[encoded data removed]",
      "text/plain": [
       "<Figure size 432x288 with 1 Axes>"
      ]
     },
     "metadata": {},
     "output_type": "display_data"
    }
   ],
   "source": [
    "np.log(df['CoapplicantIncome']+1).hist(bins=20)\n",
    "plt.show()"
   ]
  },
  {
   "cell_type": "markdown",
   "metadata": {},
   "source": [
    "What we can do in this case instead is:\n",
    "* Create a new feature `TotalIncome` as the sum of the *original* `ApplicantIncome` and `CoapplicantIncome`\n",
    "* Drop column `CoapplicantIncome` because it can be derived from `ApplicantIncome` and `CoapplicantIncome`."
   ]
  },
  {
   "cell_type": "code",
   "execution_count": 24,
   "metadata": {},
   "outputs": [
    {
     "data": {
      "text/plain": [
       "TotalIncome   -1.184385\n",
       "dtype: float64"
      ]
     },
     "execution_count": 24,
     "metadata": {},
     "output_type": "execute_result"
    }
   ],
   "source": [
    "# Create TotalIncome column and apply a log transformation\n",
    "df['TotalIncome'] = df_original['ApplicantIncome'] + df_original['CoapplicantIncome']\n",
    "df[['TotalIncome']] = robust_scaler.fit_transform(df[['TotalIncome']])\n",
    "df[['TotalIncome']].min()"
   ]
  },
  {
   "cell_type": "code",
   "execution_count": 25,
   "metadata": {},
   "outputs": [],
   "source": [
    "df['TotalIncome'] = np.log(df['TotalIncome']+2.19)"
   ]
  },
  {
   "cell_type": "markdown",
   "metadata": {},
   "source": [
    "Let's plot `TotalIncome`."
   ]
  },
  {
   "cell_type": "code",
   "execution_count": 26,
   "metadata": {},
   "outputs": [
    {
     "data": {
      "image/png": "[encoded data removed]",
      "text/plain": [
       "<Figure size 432x288 with 1 Axes>"
      ]
     },
     "metadata": {},
     "output_type": "display_data"
    }
   ],
   "source": [
    "df['TotalIncome'].hist(bins=20)\n",
    "plt.show()"
   ]
  },
  {
   "cell_type": "markdown",
   "metadata": {},
   "source": [
    "Let's drop `CoapplicantIncome`."
   ]
  },
  {
   "cell_type": "code",
   "execution_count": 27,
   "metadata": {},
   "outputs": [],
   "source": [
    "df.drop('CoapplicantIncome', axis=1, inplace=True)"
   ]
  },
  {
   "cell_type": "markdown",
   "metadata": {},
   "source": [
    "# G. Save the Prepared Dataset"
   ]
  },
  {
   "cell_type": "markdown",
   "metadata": {},
   "source": [
    "Finally, let's save the prepared dataset as a CSV file."
   ]
  },
  {
   "cell_type": "code",
   "execution_count": 28,
   "metadata": {},
   "outputs": [],
   "source": [
    "df.to_csv('loans_train_prepared.csv')"
   ]
  }
 ],
 "metadata": {
  "kernelspec": {
   "display_name": "Python 3 (ipykernel)",
   "language": "python",
   "name": "python3"
  },
  "language_info": {
   "codemirror_mode": {
    "name": "ipython",
    "version": 3
   },
   "file_extension": ".py",
   "mimetype": "text/x-python",
   "name": "python",
   "nbconvert_exporter": "python",
   "pygments_lexer": "ipython3",
   "version": "3.9.7"
  }
 },
 "nbformat": 4,
 "nbformat_minor": 2
}
