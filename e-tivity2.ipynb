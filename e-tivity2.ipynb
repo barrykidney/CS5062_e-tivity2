{
 "cells": [
  {
   "cell_type": "markdown",
   "id": "a4d72470",
   "metadata": {},
   "source": [
    "Name: Barry O' Dubhain"
   ]
  },
  {
   "cell_type": "markdown",
   "id": "0c1eb5d3",
   "metadata": {},
   "source": [
    "Student ID: 21384401"
   ]
  },
  {
   "cell_type": "code",
   "execution_count": 2,
   "id": "82650d36",
   "metadata": {},
   "outputs": [],
   "source": [
    "import pandas as pd\n",
    "import numpy as np\n",
    "from sklearn.preprocessing import RobustScaler\n",
    "import matplotlib.pyplot as plt\n",
    "%matplotlib inline"
   ]
  },
  {
   "cell_type": "markdown",
   "id": "ae989bf3",
   "metadata": {},
   "source": [
    "This is a description of the what the attributes represent.\n",
    "\n",
    "#### Input variables:\n",
    "#### bank client data:\n",
    "1. **age**: age of client (numeric)\n",
    "2. **job**: type of job (categorical: 'admin.','blue collar','entrepreneur','housemaid','management','retired','self-employed','services','student','technician','unemployed','unknown')\n",
    "3. **marital** : marital status (categorical: 'divorced','married','single','unknown'; note: 'divorced' means divorced or widowed)\n",
    "4. **education** (categorical: 'basic.4y','basic.6y','basic.9y','high.school','illiterate','professional.course','university.degree','unknown')\n",
    "5. **default**: has credit in default? (categorical: 'no','yes','unknown')\n",
    "6. **balance**: the balance in the clients current account\n",
    "7. **housing**: has housing loan? (categorical: 'no','yes','unknown')\n",
    "8. **loan**: has personal loan? (categorical: 'no','yes','unknown')\n",
    "\n",
    "#### related with the last contact of the current campaign:\n",
    "9. **contact**: contact communication type (categorical: 'cellular','telephone')\n",
    "10. **month**: last contact month of year (categorical: 'jan', 'feb', 'mar', ..., 'nov', 'dec')\n",
    "11. **day_of_week**: last contact day of the week (categorical: 'mon','tue','wed','thu','fri')\n",
    "12. **duration**: last contact duration, in seconds (numeric). Important note: this attribute highly affects the output target (e.g., if duration=0 then y='no'). Yet, the duration is not known before a call is performed. Also, after the end of the call y is obviously known. Thus, this input should only be included for benchmark purposes and should be discarded if the intention is to have a realistic predictive model.\n",
    "\n",
    "#### other attributes:\n",
    "13. **campaign**: number of contacts performed during this campaign and for this client (numeric, includes last contact)\n",
    "14. **pdays**: number of days that passed by after the client was last contacted from a previous campaign (numeric; 999 means client was not previously contacted)\n",
    "15. **previous**: number of contacts performed before this campaign and for this client (numeric)\n",
    "16. **poutcome**: outcome of the previous marketing campaign (categorical: 'failure','nonexistent','success')\n",
    "\n",
    "#### Output variable (desired target):\n",
    "17. **subscribed**: has the client subscribed a term deposit? (binary: 'yes','no')\n",
    "\n",
    "source: https://archive.ics.uci.edu/ml/datasets/bank+marketing"
   ]
  },
  {
   "cell_type": "code",
   "execution_count": 3,
   "id": "fca4270a",
   "metadata": {},
   "outputs": [],
   "source": [
    "df = pd.read_csv(\"./bank.csv\")"
   ]
  },
  {
   "cell_type": "code",
   "execution_count": 4,
   "id": "0b18f73d",
   "metadata": {},
   "outputs": [
    {
     "data": {
      "text/html": [
       "<div>\n",
       "<style scoped>\n",
       "    .dataframe tbody tr th:only-of-type {\n",
       "        vertical-align: middle;\n",
       "    }\n",
       "\n",
       "    .dataframe tbody tr th {\n",
       "        vertical-align: top;\n",
       "    }\n",
       "\n",
       "    .dataframe thead th {\n",
       "        text-align: right;\n",
       "    }\n",
       "</style>\n",
       "<table border=\"1\" class=\"dataframe\">\n",
       "  <thead>\n",
       "    <tr style=\"text-align: right;\">\n",
       "      <th></th>\n",
       "      <th>age</th>\n",
       "      <th>job</th>\n",
       "      <th>marital</th>\n",
       "      <th>education</th>\n",
       "      <th>default</th>\n",
       "      <th>balance</th>\n",
       "      <th>housing</th>\n",
       "      <th>loan</th>\n",
       "      <th>contact</th>\n",
       "      <th>day</th>\n",
       "      <th>month</th>\n",
       "      <th>duration</th>\n",
       "      <th>campaign</th>\n",
       "      <th>pdays</th>\n",
       "      <th>previous</th>\n",
       "      <th>poutcome</th>\n",
       "      <th>subscribed</th>\n",
       "    </tr>\n",
       "  </thead>\n",
       "  <tbody>\n",
       "    <tr>\n",
       "      <th>0</th>\n",
       "      <td>32.0</td>\n",
       "      <td>technician</td>\n",
       "      <td>single</td>\n",
       "      <td>tertiary</td>\n",
       "      <td>no</td>\n",
       "      <td>392</td>\n",
       "      <td>yes</td>\n",
       "      <td>no</td>\n",
       "      <td>cellular</td>\n",
       "      <td>1</td>\n",
       "      <td>apr</td>\n",
       "      <td>957</td>\n",
       "      <td>2</td>\n",
       "      <td>131</td>\n",
       "      <td>2</td>\n",
       "      <td>failure</td>\n",
       "      <td>no</td>\n",
       "    </tr>\n",
       "    <tr>\n",
       "      <th>1</th>\n",
       "      <td>39.0</td>\n",
       "      <td>technician</td>\n",
       "      <td>divorced</td>\n",
       "      <td>secondary</td>\n",
       "      <td>no</td>\n",
       "      <td>688</td>\n",
       "      <td>yes</td>\n",
       "      <td>yes</td>\n",
       "      <td>cellular</td>\n",
       "      <td>1</td>\n",
       "      <td>apr</td>\n",
       "      <td>233</td>\n",
       "      <td>2</td>\n",
       "      <td>133</td>\n",
       "      <td>1</td>\n",
       "      <td>failure</td>\n",
       "      <td>no</td>\n",
       "    </tr>\n",
       "    <tr>\n",
       "      <th>2</th>\n",
       "      <td>59.0</td>\n",
       "      <td>retired</td>\n",
       "      <td>married</td>\n",
       "      <td>secondary</td>\n",
       "      <td>no</td>\n",
       "      <td>1035</td>\n",
       "      <td>yes</td>\n",
       "      <td>yes</td>\n",
       "      <td>cellular</td>\n",
       "      <td>1</td>\n",
       "      <td>apr</td>\n",
       "      <td>126</td>\n",
       "      <td>2</td>\n",
       "      <td>239</td>\n",
       "      <td>1</td>\n",
       "      <td>failure</td>\n",
       "      <td>no</td>\n",
       "    </tr>\n",
       "    <tr>\n",
       "      <th>3</th>\n",
       "      <td>47.0</td>\n",
       "      <td>blue-collar</td>\n",
       "      <td>married</td>\n",
       "      <td>secondary</td>\n",
       "      <td>no</td>\n",
       "      <td>398</td>\n",
       "      <td>yes</td>\n",
       "      <td>yes</td>\n",
       "      <td>cellular</td>\n",
       "      <td>1</td>\n",
       "      <td>apr</td>\n",
       "      <td>274</td>\n",
       "      <td>1</td>\n",
       "      <td>238</td>\n",
       "      <td>2</td>\n",
       "      <td>failure</td>\n",
       "      <td>no</td>\n",
       "    </tr>\n",
       "    <tr>\n",
       "      <th>4</th>\n",
       "      <td>54.0</td>\n",
       "      <td>retired</td>\n",
       "      <td>married</td>\n",
       "      <td>secondary</td>\n",
       "      <td>no</td>\n",
       "      <td>1004</td>\n",
       "      <td>yes</td>\n",
       "      <td>no</td>\n",
       "      <td>cellular</td>\n",
       "      <td>1</td>\n",
       "      <td>apr</td>\n",
       "      <td>479</td>\n",
       "      <td>1</td>\n",
       "      <td>307</td>\n",
       "      <td>1</td>\n",
       "      <td>failure</td>\n",
       "      <td>no</td>\n",
       "    </tr>\n",
       "  </tbody>\n",
       "</table>\n",
       "</div>"
      ],
      "text/plain": [
       "    age          job   marital  education default  balance housing loan  \\\n",
       "0  32.0   technician    single   tertiary      no      392     yes   no   \n",
       "1  39.0   technician  divorced  secondary      no      688     yes  yes   \n",
       "2  59.0      retired   married  secondary      no     1035     yes  yes   \n",
       "3  47.0  blue-collar   married  secondary      no      398     yes  yes   \n",
       "4  54.0      retired   married  secondary      no     1004     yes   no   \n",
       "\n",
       "    contact  day month  duration  campaign  pdays  previous poutcome  \\\n",
       "0  cellular    1   apr       957         2    131         2  failure   \n",
       "1  cellular    1   apr       233         2    133         1  failure   \n",
       "2  cellular    1   apr       126         2    239         1  failure   \n",
       "3  cellular    1   apr       274         1    238         2  failure   \n",
       "4  cellular    1   apr       479         1    307         1  failure   \n",
       "\n",
       "  subscribed  \n",
       "0         no  \n",
       "1         no  \n",
       "2         no  \n",
       "3         no  \n",
       "4         no  "
      ]
     },
     "execution_count": 4,
     "metadata": {},
     "output_type": "execute_result"
    }
   ],
   "source": [
    "df.head(5)"
   ]
  },
  {
   "cell_type": "code",
   "execution_count": 5,
   "id": "bcc5f47e",
   "metadata": {},
   "outputs": [
    {
     "data": {
      "text/html": [
       "<div>\n",
       "<style scoped>\n",
       "    .dataframe tbody tr th:only-of-type {\n",
       "        vertical-align: middle;\n",
       "    }\n",
       "\n",
       "    .dataframe tbody tr th {\n",
       "        vertical-align: top;\n",
       "    }\n",
       "\n",
       "    .dataframe thead th {\n",
       "        text-align: right;\n",
       "    }\n",
       "</style>\n",
       "<table border=\"1\" class=\"dataframe\">\n",
       "  <thead>\n",
       "    <tr style=\"text-align: right;\">\n",
       "      <th></th>\n",
       "      <th>age</th>\n",
       "      <th>job</th>\n",
       "      <th>marital</th>\n",
       "      <th>education</th>\n",
       "      <th>default</th>\n",
       "      <th>balance</th>\n",
       "      <th>housing</th>\n",
       "      <th>loan</th>\n",
       "      <th>contact</th>\n",
       "      <th>day</th>\n",
       "      <th>month</th>\n",
       "      <th>duration</th>\n",
       "      <th>campaign</th>\n",
       "      <th>pdays</th>\n",
       "      <th>previous</th>\n",
       "      <th>poutcome</th>\n",
       "      <th>subscribed</th>\n",
       "    </tr>\n",
       "  </thead>\n",
       "  <tbody>\n",
       "    <tr>\n",
       "      <th>1995</th>\n",
       "      <td>20.0</td>\n",
       "      <td>student</td>\n",
       "      <td>single</td>\n",
       "      <td>NaN</td>\n",
       "      <td>no</td>\n",
       "      <td>2785</td>\n",
       "      <td>no</td>\n",
       "      <td>no</td>\n",
       "      <td>cellular</td>\n",
       "      <td>16</td>\n",
       "      <td>sep</td>\n",
       "      <td>327</td>\n",
       "      <td>2</td>\n",
       "      <td>-1</td>\n",
       "      <td>0</td>\n",
       "      <td>NaN</td>\n",
       "      <td>yes</td>\n",
       "    </tr>\n",
       "    <tr>\n",
       "      <th>1996</th>\n",
       "      <td>28.0</td>\n",
       "      <td>admin.</td>\n",
       "      <td>single</td>\n",
       "      <td>secondary</td>\n",
       "      <td>no</td>\n",
       "      <td>127</td>\n",
       "      <td>no</td>\n",
       "      <td>no</td>\n",
       "      <td>cellular</td>\n",
       "      <td>16</td>\n",
       "      <td>sep</td>\n",
       "      <td>1334</td>\n",
       "      <td>2</td>\n",
       "      <td>-1</td>\n",
       "      <td>0</td>\n",
       "      <td>NaN</td>\n",
       "      <td>yes</td>\n",
       "    </tr>\n",
       "    <tr>\n",
       "      <th>1997</th>\n",
       "      <td>81.0</td>\n",
       "      <td>retired</td>\n",
       "      <td>married</td>\n",
       "      <td>primary</td>\n",
       "      <td>no</td>\n",
       "      <td>1154</td>\n",
       "      <td>no</td>\n",
       "      <td>no</td>\n",
       "      <td>telephone</td>\n",
       "      <td>17</td>\n",
       "      <td>sep</td>\n",
       "      <td>231</td>\n",
       "      <td>1</td>\n",
       "      <td>-1</td>\n",
       "      <td>0</td>\n",
       "      <td>NaN</td>\n",
       "      <td>yes</td>\n",
       "    </tr>\n",
       "    <tr>\n",
       "      <th>1998</th>\n",
       "      <td>46.0</td>\n",
       "      <td>services</td>\n",
       "      <td>married</td>\n",
       "      <td>primary</td>\n",
       "      <td>no</td>\n",
       "      <td>4343</td>\n",
       "      <td>yes</td>\n",
       "      <td>no</td>\n",
       "      <td>NaN</td>\n",
       "      <td>20</td>\n",
       "      <td>sep</td>\n",
       "      <td>185</td>\n",
       "      <td>1</td>\n",
       "      <td>-1</td>\n",
       "      <td>0</td>\n",
       "      <td>NaN</td>\n",
       "      <td>yes</td>\n",
       "    </tr>\n",
       "    <tr>\n",
       "      <th>1999</th>\n",
       "      <td>40.0</td>\n",
       "      <td>entrepreneur</td>\n",
       "      <td>married</td>\n",
       "      <td>secondary</td>\n",
       "      <td>no</td>\n",
       "      <td>6403</td>\n",
       "      <td>no</td>\n",
       "      <td>no</td>\n",
       "      <td>cellular</td>\n",
       "      <td>22</td>\n",
       "      <td>sep</td>\n",
       "      <td>208</td>\n",
       "      <td>2</td>\n",
       "      <td>-1</td>\n",
       "      <td>0</td>\n",
       "      <td>NaN</td>\n",
       "      <td>yes</td>\n",
       "    </tr>\n",
       "  </tbody>\n",
       "</table>\n",
       "</div>"
      ],
      "text/plain": [
       "       age           job  marital  education default  balance housing loan  \\\n",
       "1995  20.0       student   single        NaN      no     2785      no   no   \n",
       "1996  28.0        admin.   single  secondary      no      127      no   no   \n",
       "1997  81.0       retired  married    primary      no     1154      no   no   \n",
       "1998  46.0      services  married    primary      no     4343     yes   no   \n",
       "1999  40.0  entrepreneur  married  secondary      no     6403      no   no   \n",
       "\n",
       "        contact  day month  duration  campaign  pdays  previous poutcome  \\\n",
       "1995   cellular   16   sep       327         2     -1         0      NaN   \n",
       "1996   cellular   16   sep      1334         2     -1         0      NaN   \n",
       "1997  telephone   17   sep       231         1     -1         0      NaN   \n",
       "1998        NaN   20   sep       185         1     -1         0      NaN   \n",
       "1999   cellular   22   sep       208         2     -1         0      NaN   \n",
       "\n",
       "     subscribed  \n",
       "1995        yes  \n",
       "1996        yes  \n",
       "1997        yes  \n",
       "1998        yes  \n",
       "1999        yes  "
      ]
     },
     "execution_count": 5,
     "metadata": {},
     "output_type": "execute_result"
    }
   ],
   "source": [
    "df.tail(5)"
   ]
  },
  {
   "cell_type": "code",
   "execution_count": 6,
   "id": "5829601c",
   "metadata": {},
   "outputs": [
    {
     "data": {
      "text/plain": [
       "age            12\n",
       "job            10\n",
       "marital         0\n",
       "education     104\n",
       "default         0\n",
       "balance         0\n",
       "housing         0\n",
       "loan            0\n",
       "contact       191\n",
       "day             0\n",
       "month           0\n",
       "duration        0\n",
       "campaign        0\n",
       "pdays           0\n",
       "previous        0\n",
       "poutcome      454\n",
       "subscribed      0\n",
       "dtype: int64"
      ]
     },
     "execution_count": 6,
     "metadata": {},
     "output_type": "execute_result"
    }
   ],
   "source": [
    "df.isna().sum()"
   ]
  },
  {
   "cell_type": "code",
   "execution_count": 7,
   "id": "e198227f",
   "metadata": {},
   "outputs": [],
   "source": [
    "df_org = df.copy(deep=True)"
   ]
  },
  {
   "cell_type": "markdown",
   "id": "f493ef7f",
   "metadata": {},
   "source": [
    "### Drop columns that are not useful"
   ]
  },
  {
   "cell_type": "markdown",
   "id": "d9603366",
   "metadata": {},
   "source": [
    "I considered keeping the 'contact' feature because people may respond to various means of communication differently, for example, written vs spoken communication. On inspection I found that all examples were of 'cellular' or 'telephone', whether the communication was spoken or via text was not specified. I therefore determined this feature to be unuseful."
   ]
  },
  {
   "cell_type": "code",
   "execution_count": 8,
   "id": "54d8ac1f",
   "metadata": {},
   "outputs": [
    {
     "name": "stdout",
     "output_type": "stream",
     "text": [
      "['cellular' 'telephone' nan]\n"
     ]
    }
   ],
   "source": [
    "print(df_org['contact'].unique())"
   ]
  },
  {
   "cell_type": "code",
   "execution_count": 9,
   "id": "a2fd2931",
   "metadata": {},
   "outputs": [],
   "source": [
    "df.drop('contact', axis=1, inplace=True)"
   ]
  },
  {
   "cell_type": "markdown",
   "id": "a8408c0d",
   "metadata": {},
   "source": [
    "### Encode Ordinal Categorical Attributes "
   ]
  },
  {
   "cell_type": "markdown",
   "id": "043bff16",
   "metadata": {},
   "source": [
    "The **education** feature is the only truely ordinal feature in the dataset.\n",
    "\n",
    "The **job** attribute is partially ordinal as it will presumably correlate with income level but to set ordinal values would be a subjective exercise so I have therefore decided to treat it as a non-ordinal categorical feature."
   ]
  },
  {
   "cell_type": "code",
   "execution_count": 10,
   "id": "062ae4bb",
   "metadata": {},
   "outputs": [
    {
     "name": "stdout",
     "output_type": "stream",
     "text": [
      "['tertiary' 'secondary' nan 'primary']\n"
     ]
    }
   ],
   "source": [
    "print(df_org['education'].unique())"
   ]
  },
  {
   "cell_type": "code",
   "execution_count": 11,
   "id": "a3b84aa4",
   "metadata": {},
   "outputs": [
    {
     "name": "stdout",
     "output_type": "stream",
     "text": [
      "secondary    995\n",
      "tertiary     684\n",
      "primary      217\n",
      "Name: education, dtype: int64\n",
      "104\n"
     ]
    }
   ],
   "source": [
    "print(df_org['education'].value_counts())\n",
    "print(df_org['education'].isna().sum())"
   ]
  },
  {
   "cell_type": "markdown",
   "id": "bd83592f",
   "metadata": {},
   "source": [
    "There is no way to deal with a missing value in an ordinal feature other than to drop the row"
   ]
  },
  {
   "cell_type": "code",
   "execution_count": 12,
   "id": "392afc18",
   "metadata": {},
   "outputs": [
    {
     "name": "stdout",
     "output_type": "stream",
     "text": [
      "Number of examples dropped: 104\n"
     ]
    }
   ],
   "source": [
    "before_len = len(df)\n",
    "df = df[df['education'].notna()]\n",
    "print(f\"Number of examples dropped: {before_len - len(df)}\")"
   ]
  },
  {
   "cell_type": "code",
   "execution_count": 13,
   "id": "057c28fb",
   "metadata": {},
   "outputs": [
    {
     "data": {
      "text/html": [
       "<div>\n",
       "<style scoped>\n",
       "    .dataframe tbody tr th:only-of-type {\n",
       "        vertical-align: middle;\n",
       "    }\n",
       "\n",
       "    .dataframe tbody tr th {\n",
       "        vertical-align: top;\n",
       "    }\n",
       "\n",
       "    .dataframe thead th {\n",
       "        text-align: right;\n",
       "    }\n",
       "</style>\n",
       "<table border=\"1\" class=\"dataframe\">\n",
       "  <thead>\n",
       "    <tr style=\"text-align: right;\">\n",
       "      <th></th>\n",
       "      <th>age</th>\n",
       "      <th>job</th>\n",
       "      <th>marital</th>\n",
       "      <th>education</th>\n",
       "      <th>default</th>\n",
       "      <th>balance</th>\n",
       "      <th>housing</th>\n",
       "      <th>loan</th>\n",
       "      <th>day</th>\n",
       "      <th>month</th>\n",
       "      <th>duration</th>\n",
       "      <th>campaign</th>\n",
       "      <th>pdays</th>\n",
       "      <th>previous</th>\n",
       "      <th>poutcome</th>\n",
       "      <th>subscribed</th>\n",
       "    </tr>\n",
       "  </thead>\n",
       "  <tbody>\n",
       "    <tr>\n",
       "      <th>1994</th>\n",
       "      <td>26.0</td>\n",
       "      <td>student</td>\n",
       "      <td>single</td>\n",
       "      <td>1</td>\n",
       "      <td>no</td>\n",
       "      <td>655</td>\n",
       "      <td>no</td>\n",
       "      <td>no</td>\n",
       "      <td>16</td>\n",
       "      <td>sep</td>\n",
       "      <td>190</td>\n",
       "      <td>1</td>\n",
       "      <td>-1</td>\n",
       "      <td>0</td>\n",
       "      <td>NaN</td>\n",
       "      <td>yes</td>\n",
       "    </tr>\n",
       "    <tr>\n",
       "      <th>1996</th>\n",
       "      <td>28.0</td>\n",
       "      <td>admin.</td>\n",
       "      <td>single</td>\n",
       "      <td>1</td>\n",
       "      <td>no</td>\n",
       "      <td>127</td>\n",
       "      <td>no</td>\n",
       "      <td>no</td>\n",
       "      <td>16</td>\n",
       "      <td>sep</td>\n",
       "      <td>1334</td>\n",
       "      <td>2</td>\n",
       "      <td>-1</td>\n",
       "      <td>0</td>\n",
       "      <td>NaN</td>\n",
       "      <td>yes</td>\n",
       "    </tr>\n",
       "    <tr>\n",
       "      <th>1997</th>\n",
       "      <td>81.0</td>\n",
       "      <td>retired</td>\n",
       "      <td>married</td>\n",
       "      <td>0</td>\n",
       "      <td>no</td>\n",
       "      <td>1154</td>\n",
       "      <td>no</td>\n",
       "      <td>no</td>\n",
       "      <td>17</td>\n",
       "      <td>sep</td>\n",
       "      <td>231</td>\n",
       "      <td>1</td>\n",
       "      <td>-1</td>\n",
       "      <td>0</td>\n",
       "      <td>NaN</td>\n",
       "      <td>yes</td>\n",
       "    </tr>\n",
       "    <tr>\n",
       "      <th>1998</th>\n",
       "      <td>46.0</td>\n",
       "      <td>services</td>\n",
       "      <td>married</td>\n",
       "      <td>0</td>\n",
       "      <td>no</td>\n",
       "      <td>4343</td>\n",
       "      <td>yes</td>\n",
       "      <td>no</td>\n",
       "      <td>20</td>\n",
       "      <td>sep</td>\n",
       "      <td>185</td>\n",
       "      <td>1</td>\n",
       "      <td>-1</td>\n",
       "      <td>0</td>\n",
       "      <td>NaN</td>\n",
       "      <td>yes</td>\n",
       "    </tr>\n",
       "    <tr>\n",
       "      <th>1999</th>\n",
       "      <td>40.0</td>\n",
       "      <td>entrepreneur</td>\n",
       "      <td>married</td>\n",
       "      <td>1</td>\n",
       "      <td>no</td>\n",
       "      <td>6403</td>\n",
       "      <td>no</td>\n",
       "      <td>no</td>\n",
       "      <td>22</td>\n",
       "      <td>sep</td>\n",
       "      <td>208</td>\n",
       "      <td>2</td>\n",
       "      <td>-1</td>\n",
       "      <td>0</td>\n",
       "      <td>NaN</td>\n",
       "      <td>yes</td>\n",
       "    </tr>\n",
       "  </tbody>\n",
       "</table>\n",
       "</div>"
      ],
      "text/plain": [
       "       age           job  marital  education default  balance housing loan  \\\n",
       "1994  26.0       student   single          1      no      655      no   no   \n",
       "1996  28.0        admin.   single          1      no      127      no   no   \n",
       "1997  81.0       retired  married          0      no     1154      no   no   \n",
       "1998  46.0      services  married          0      no     4343     yes   no   \n",
       "1999  40.0  entrepreneur  married          1      no     6403      no   no   \n",
       "\n",
       "      day month  duration  campaign  pdays  previous poutcome subscribed  \n",
       "1994   16   sep       190         1     -1         0      NaN        yes  \n",
       "1996   16   sep      1334         2     -1         0      NaN        yes  \n",
       "1997   17   sep       231         1     -1         0      NaN        yes  \n",
       "1998   20   sep       185         1     -1         0      NaN        yes  \n",
       "1999   22   sep       208         2     -1         0      NaN        yes  "
      ]
     },
     "execution_count": 13,
     "metadata": {},
     "output_type": "execute_result"
    }
   ],
   "source": [
    "# Create a mapper\n",
    "\n",
    "scale_mapper = {\n",
    "    \"primary\": 0,\n",
    "    \"secondary\": 1,\n",
    "    \"tertiary\": 2\n",
    "}\n",
    "\n",
    "df['education'] = df['education'].replace(scale_mapper)\n",
    "\n",
    "df.tail()"
   ]
  },
  {
   "cell_type": "markdown",
   "id": "d8007772",
   "metadata": {},
   "source": [
    " ### One-Hot Encode All Other Categorical Attributes"
   ]
  },
  {
   "cell_type": "markdown",
   "id": "d2c2df41",
   "metadata": {},
   "source": [
    "The **marital**, **housing**, **default**, **loan**, **month**, **job**, **poutcome** features are categorical/boolean features and will be one-hot encoded. None of these features have nan values. job has 10 NaN values but because I have decided to treat this feature as non-ordinal the NaN values can be treated as a category."
   ]
  },
  {
   "cell_type": "code",
   "execution_count": 14,
   "id": "69c15d24",
   "metadata": {},
   "outputs": [
    {
     "name": "stdout",
     "output_type": "stream",
     "text": [
      "default: ['no' 'yes']\n",
      "housing: ['yes' 'no']\n",
      "loan: ['no' 'yes']\n",
      "marital: ['single' 'divorced' 'married']\n",
      "month: ['apr' 'dec' 'feb' 'jan' 'mar' 'may' 'nov' 'oct' 'aug' 'jul' 'jun' 'sep']\n",
      "day: [ 1  2  3 20  4  7  9 10 14 16 17 18 21 24 28 29 30  5  6 11 13 19 26 27\n",
      "  8 12 22 25 15 23 31]\n",
      "job: ['technician' 'retired' 'blue-collar' 'self-employed' 'services'\n",
      " 'management' 'admin.' 'unemployed' 'student' 'entrepreneur' 'housemaid'\n",
      " nan]\n",
      "poutcome: ['failure' 'other' 'success' nan]\n"
     ]
    }
   ],
   "source": [
    "print(f\"default: {df_org['default'].unique()}\\\n",
    "\\nhousing: {df_org['housing'].unique()}\\\n",
    "\\nloan: {df_org['loan'].unique()}\\\n",
    "\\nmarital: {df_org['marital'].unique()}\\\n",
    "\\nmonth: {df_org['month'].unique()}\\\n",
    "\\nday: {df_org['day'].unique()}\\\n",
    "\\njob: {df_org['job'].unique()}\\\n",
    "\\npoutcome: {df_org['poutcome'].unique()}\")"
   ]
  },
  {
   "cell_type": "code",
   "execution_count": 15,
   "id": "42acab7f",
   "metadata": {},
   "outputs": [
    {
     "data": {
      "text/html": [
       "<div>\n",
       "<style scoped>\n",
       "    .dataframe tbody tr th:only-of-type {\n",
       "        vertical-align: middle;\n",
       "    }\n",
       "\n",
       "    .dataframe tbody tr th {\n",
       "        vertical-align: top;\n",
       "    }\n",
       "\n",
       "    .dataframe thead th {\n",
       "        text-align: right;\n",
       "    }\n",
       "</style>\n",
       "<table border=\"1\" class=\"dataframe\">\n",
       "  <thead>\n",
       "    <tr style=\"text-align: right;\">\n",
       "      <th></th>\n",
       "      <th>age</th>\n",
       "      <th>education</th>\n",
       "      <th>balance</th>\n",
       "      <th>duration</th>\n",
       "      <th>campaign</th>\n",
       "      <th>pdays</th>\n",
       "      <th>previous</th>\n",
       "      <th>subscribed</th>\n",
       "      <th>marital_married</th>\n",
       "      <th>marital_single</th>\n",
       "      <th>...</th>\n",
       "      <th>day_24</th>\n",
       "      <th>day_25</th>\n",
       "      <th>day_26</th>\n",
       "      <th>day_27</th>\n",
       "      <th>day_28</th>\n",
       "      <th>day_29</th>\n",
       "      <th>day_30</th>\n",
       "      <th>day_31</th>\n",
       "      <th>poutcome_other</th>\n",
       "      <th>poutcome_success</th>\n",
       "    </tr>\n",
       "  </thead>\n",
       "  <tbody>\n",
       "    <tr>\n",
       "      <th>0</th>\n",
       "      <td>32.0</td>\n",
       "      <td>2</td>\n",
       "      <td>392</td>\n",
       "      <td>957</td>\n",
       "      <td>2</td>\n",
       "      <td>131</td>\n",
       "      <td>2</td>\n",
       "      <td>no</td>\n",
       "      <td>0</td>\n",
       "      <td>1</td>\n",
       "      <td>...</td>\n",
       "      <td>0</td>\n",
       "      <td>0</td>\n",
       "      <td>0</td>\n",
       "      <td>0</td>\n",
       "      <td>0</td>\n",
       "      <td>0</td>\n",
       "      <td>0</td>\n",
       "      <td>0</td>\n",
       "      <td>0</td>\n",
       "      <td>0</td>\n",
       "    </tr>\n",
       "    <tr>\n",
       "      <th>1</th>\n",
       "      <td>39.0</td>\n",
       "      <td>1</td>\n",
       "      <td>688</td>\n",
       "      <td>233</td>\n",
       "      <td>2</td>\n",
       "      <td>133</td>\n",
       "      <td>1</td>\n",
       "      <td>no</td>\n",
       "      <td>0</td>\n",
       "      <td>0</td>\n",
       "      <td>...</td>\n",
       "      <td>0</td>\n",
       "      <td>0</td>\n",
       "      <td>0</td>\n",
       "      <td>0</td>\n",
       "      <td>0</td>\n",
       "      <td>0</td>\n",
       "      <td>0</td>\n",
       "      <td>0</td>\n",
       "      <td>0</td>\n",
       "      <td>0</td>\n",
       "    </tr>\n",
       "    <tr>\n",
       "      <th>2</th>\n",
       "      <td>59.0</td>\n",
       "      <td>1</td>\n",
       "      <td>1035</td>\n",
       "      <td>126</td>\n",
       "      <td>2</td>\n",
       "      <td>239</td>\n",
       "      <td>1</td>\n",
       "      <td>no</td>\n",
       "      <td>1</td>\n",
       "      <td>0</td>\n",
       "      <td>...</td>\n",
       "      <td>0</td>\n",
       "      <td>0</td>\n",
       "      <td>0</td>\n",
       "      <td>0</td>\n",
       "      <td>0</td>\n",
       "      <td>0</td>\n",
       "      <td>0</td>\n",
       "      <td>0</td>\n",
       "      <td>0</td>\n",
       "      <td>0</td>\n",
       "    </tr>\n",
       "    <tr>\n",
       "      <th>3</th>\n",
       "      <td>47.0</td>\n",
       "      <td>1</td>\n",
       "      <td>398</td>\n",
       "      <td>274</td>\n",
       "      <td>1</td>\n",
       "      <td>238</td>\n",
       "      <td>2</td>\n",
       "      <td>no</td>\n",
       "      <td>1</td>\n",
       "      <td>0</td>\n",
       "      <td>...</td>\n",
       "      <td>0</td>\n",
       "      <td>0</td>\n",
       "      <td>0</td>\n",
       "      <td>0</td>\n",
       "      <td>0</td>\n",
       "      <td>0</td>\n",
       "      <td>0</td>\n",
       "      <td>0</td>\n",
       "      <td>0</td>\n",
       "      <td>0</td>\n",
       "    </tr>\n",
       "    <tr>\n",
       "      <th>4</th>\n",
       "      <td>54.0</td>\n",
       "      <td>1</td>\n",
       "      <td>1004</td>\n",
       "      <td>479</td>\n",
       "      <td>1</td>\n",
       "      <td>307</td>\n",
       "      <td>1</td>\n",
       "      <td>no</td>\n",
       "      <td>1</td>\n",
       "      <td>0</td>\n",
       "      <td>...</td>\n",
       "      <td>0</td>\n",
       "      <td>0</td>\n",
       "      <td>0</td>\n",
       "      <td>0</td>\n",
       "      <td>0</td>\n",
       "      <td>0</td>\n",
       "      <td>0</td>\n",
       "      <td>0</td>\n",
       "      <td>0</td>\n",
       "      <td>0</td>\n",
       "    </tr>\n",
       "  </tbody>\n",
       "</table>\n",
       "<p>5 rows × 66 columns</p>\n",
       "</div>"
      ],
      "text/plain": [
       "    age  education  balance  duration  campaign  pdays  previous subscribed  \\\n",
       "0  32.0          2      392       957         2    131         2         no   \n",
       "1  39.0          1      688       233         2    133         1         no   \n",
       "2  59.0          1     1035       126         2    239         1         no   \n",
       "3  47.0          1      398       274         1    238         2         no   \n",
       "4  54.0          1     1004       479         1    307         1         no   \n",
       "\n",
       "   marital_married  marital_single  ...  day_24  day_25  day_26  day_27  \\\n",
       "0                0               1  ...       0       0       0       0   \n",
       "1                0               0  ...       0       0       0       0   \n",
       "2                1               0  ...       0       0       0       0   \n",
       "3                1               0  ...       0       0       0       0   \n",
       "4                1               0  ...       0       0       0       0   \n",
       "\n",
       "   day_28  day_29  day_30  day_31  poutcome_other  poutcome_success  \n",
       "0       0       0       0       0               0                 0  \n",
       "1       0       0       0       0               0                 0  \n",
       "2       0       0       0       0               0                 0  \n",
       "3       0       0       0       0               0                 0  \n",
       "4       0       0       0       0               0                 0  \n",
       "\n",
       "[5 rows x 66 columns]"
      ]
     },
     "execution_count": 15,
     "metadata": {},
     "output_type": "execute_result"
    }
   ],
   "source": [
    "df = pd.get_dummies(df, columns=['marital', 'housing', 'default', 'loan', 'month', 'job', 'day', 'poutcome'], drop_first=True)\n",
    "df.head()"
   ]
  },
  {
   "cell_type": "code",
   "execution_count": 16,
   "id": "3e83a049",
   "metadata": {},
   "outputs": [
    {
     "name": "stdout",
     "output_type": "stream",
     "text": [
      "['age', 'education', 'balance', 'duration', 'campaign', 'pdays', 'previous', 'subscribed', 'marital_married', 'marital_single', 'housing_yes', 'default_yes', 'loan_yes', 'month_aug', 'month_dec', 'month_feb', 'month_jan', 'month_jul', 'month_jun', 'month_mar', 'month_may', 'month_nov', 'month_oct', 'month_sep', 'job_blue-collar', 'job_entrepreneur', 'job_housemaid', 'job_management', 'job_retired', 'job_self-employed', 'job_services', 'job_student', 'job_technician', 'job_unemployed', 'day_2', 'day_3', 'day_4', 'day_5', 'day_6', 'day_7', 'day_8', 'day_9', 'day_10', 'day_11', 'day_12', 'day_13', 'day_14', 'day_15', 'day_16', 'day_17', 'day_18', 'day_19', 'day_20', 'day_21', 'day_22', 'day_23', 'day_24', 'day_25', 'day_26', 'day_27', 'day_28', 'day_29', 'day_30', 'day_31', 'poutcome_other', 'poutcome_success']\n"
     ]
    }
   ],
   "source": [
    "print(list(df.columns.values))"
   ]
  },
  {
   "cell_type": "markdown",
   "id": "120e5253",
   "metadata": {},
   "source": [
    "### Treatment of Missing Values in Numerical Columns"
   ]
  },
  {
   "cell_type": "code",
   "execution_count": 17,
   "id": "0fefd453",
   "metadata": {},
   "outputs": [
    {
     "name": "stdout",
     "output_type": "stream",
     "text": [
      "age : 12\n"
     ]
    }
   ],
   "source": [
    "for idx, att in enumerate(list(df.columns.values)):\n",
    "    if df[att].isna().sum() > 0: \n",
    "        print(f\"{att} : {df[att].isna().sum()}\")"
   ]
  },
  {
   "cell_type": "code",
   "execution_count": 18,
   "id": "93812f68",
   "metadata": {},
   "outputs": [
    {
     "data": {
      "text/plain": [
       "array([32., 39., 59., 47., 54., 46., 34., 45., 58., 49., 36., 48., 35.,\n",
       "       30., 53., 40., 57., 37., 38., 56., 24., 31., 43., 27., 33., 51.,\n",
       "       50., 42., 22., 64., 52., 29., 44., 55., 26., 60., 41., 28., nan,\n",
       "       25., 63., 69., 84., 62., 23., 75., 73., 19., 61., 86., 78., 76.,\n",
       "       77., 70., 68., 65., 21., 67., 66., 82., 71., 80., 79., 74., 20.,\n",
       "       72., 81.])"
      ]
     },
     "execution_count": 18,
     "metadata": {},
     "output_type": "execute_result"
    }
   ],
   "source": [
    "df['age'].unique()"
   ]
  },
  {
   "cell_type": "code",
   "execution_count": 19,
   "id": "d97247f9",
   "metadata": {},
   "outputs": [
    {
     "name": "stdout",
     "output_type": "stream",
     "text": [
      "0.01% of the 'age' feature is missing values,\n",
      "this is less than 25% therefore we will not be dropping this column.\n"
     ]
    }
   ],
   "source": [
    "print(f\"{round(df['age'].isna().sum() / len(df), 2)}% of the 'age' feature is missing values,\\\n",
    "\\nthis is less than 25% therefore we will not be dropping this column.\")"
   ]
  },
  {
   "cell_type": "markdown",
   "id": "e9be52e3",
   "metadata": {},
   "source": [
    "In order to replace the missing values in the age feature we could just find the mean value for that column and replace the missing values with that: df['age'].fillna(df['age'].mean(), inplace=True) but there are more accurate methods available so instead, we will look to other features that may provide an indication of the age of the example. We will print the box plots of what we deem to be the most indicative features to comfirm our assumptions. I have chosen marital status, whether an example is retired, student or neither and home ownership as indicators of age."
   ]
  },
  {
   "cell_type": "code",
   "execution_count": 20,
   "id": "ff811ff1",
   "metadata": {},
   "outputs": [
    {
     "data": {
      "image/png": "[encoded data removed]",
      "text/plain": [
       "<Figure size 432x288 with 1 Axes>"
      ]
     },
     "metadata": {
      "needs_background": "light"
     },
     "output_type": "display_data"
    },
    {
     "data": {
      "image/png": "[encoded data removed]",
      "text/plain": [
       "<Figure size 432x288 with 1 Axes>"
      ]
     },
     "metadata": {
      "needs_background": "light"
     },
     "output_type": "display_data"
    },
    {
     "data": {
      "image/png": "[encoded data removed]",
      "text/plain": [
       "<Figure size 432x288 with 1 Axes>"
      ]
     },
     "metadata": {
      "needs_background": "light"
     },
     "output_type": "display_data"
    }
   ],
   "source": [
    "df.boxplot(column='age', by=['marital_married', 'marital_single'], rot=45)\n",
    "plt.title(\"Marital status\")\n",
    "plt.show()\n",
    "\n",
    "df.boxplot(column='age', by=['job_retired', 'job_student'], rot=45)\n",
    "plt.title(\"student/retired\")\n",
    "plt.show()\n",
    "\n",
    "df.boxplot(column='age', by=['housing_yes'], rot=45)\n",
    "plt.title(\"housing\")\n",
    "plt.show()"
   ]
  },
  {
   "cell_type": "markdown",
   "id": "d7a79ed7",
   "metadata": {},
   "source": [
    "We can see from the box plots that both marital status and job student/retired are good indicators of age but housing is not. We will therefore ignore home ownership for the purposed of estimating the age of examples."
   ]
  },
  {
   "cell_type": "code",
   "execution_count": 21,
   "id": "71c5c476",
   "metadata": {},
   "outputs": [
    {
     "name": "stdout",
     "output_type": "stream",
     "text": [
      "                                                         age\n",
      "job_retired job_student marital_married marital_single      \n",
      "0           0           0               0               43.0\n",
      "                                        1               32.0\n",
      "                        1               0               41.0\n",
      "            1           0               0               38.0\n",
      "                                        1               25.0\n",
      "                        1               0               33.0\n",
      "1           0           0               0               67.0\n",
      "                                        1               60.5\n",
      "                        1               0               65.0\n"
     ]
    }
   ],
   "source": [
    "ptable = df.pivot_table(values='age', \n",
    "                        index=['job_retired', 'job_student', 'marital_married', 'marital_single'],\n",
    "#                         columns=[],  \n",
    "                        aggfunc=np.median)\n",
    "print(ptable)"
   ]
  },
  {
   "cell_type": "code",
   "execution_count": 24,
   "id": "ef996305",
   "metadata": {},
   "outputs": [],
   "source": [
    "# Define function to return an element of the pivot table\n",
    "def get_element(x):\n",
    "    return ptable.loc[\n",
    "        x['marital_married'], x['marital_single'], x['marital_married'], x['marital_single']]"
   ]
  },
  {
   "cell_type": "code",
   "execution_count": 25,
   "id": "8cf4de22",
   "metadata": {},
   "outputs": [
    {
     "ename": "TypeError",
     "evalue": "\"value\" parameter must be a scalar, dict or Series, but you passed a \"DataFrame\"",
     "output_type": "error",
     "traceback": [
      "\u001b[1;31m---------------------------------------------------------------------------\u001b[0m",
      "\u001b[1;31mTypeError\u001b[0m                                 Traceback (most recent call last)",
      "\u001b[1;32m~\\AppData\\Local\\Temp\\ipykernel_23272\\4186659872.py\u001b[0m in \u001b[0;36m<module>\u001b[1;34m\u001b[0m\n\u001b[1;32m----> 1\u001b[1;33m \u001b[0mdf\u001b[0m\u001b[1;33m[\u001b[0m\u001b[1;34m'age'\u001b[0m\u001b[1;33m]\u001b[0m\u001b[1;33m.\u001b[0m\u001b[0mfillna\u001b[0m\u001b[1;33m(\u001b[0m\u001b[0mdf\u001b[0m\u001b[1;33m[\u001b[0m\u001b[0mdf\u001b[0m\u001b[1;33m[\u001b[0m\u001b[1;34m'age'\u001b[0m\u001b[1;33m]\u001b[0m\u001b[1;33m.\u001b[0m\u001b[0misnull\u001b[0m\u001b[1;33m(\u001b[0m\u001b[1;33m)\u001b[0m\u001b[1;33m]\u001b[0m\u001b[1;33m.\u001b[0m\u001b[0mapply\u001b[0m\u001b[1;33m(\u001b[0m\u001b[0mget_element\u001b[0m\u001b[1;33m,\u001b[0m \u001b[0maxis\u001b[0m\u001b[1;33m=\u001b[0m\u001b[1;36m1\u001b[0m\u001b[1;33m)\u001b[0m\u001b[1;33m,\u001b[0m \u001b[0minplace\u001b[0m\u001b[1;33m=\u001b[0m\u001b[1;32mTrue\u001b[0m\u001b[1;33m)\u001b[0m\u001b[1;33m\u001b[0m\u001b[1;33m\u001b[0m\u001b[0m\n\u001b[0m",
      "\u001b[1;32m~\\anaconda3\\lib\\site-packages\\pandas\\util\\_decorators.py\u001b[0m in \u001b[0;36mwrapper\u001b[1;34m(*args, **kwargs)\u001b[0m\n\u001b[0;32m    309\u001b[0m                     \u001b[0mstacklevel\u001b[0m\u001b[1;33m=\u001b[0m\u001b[0mstacklevel\u001b[0m\u001b[1;33m,\u001b[0m\u001b[1;33m\u001b[0m\u001b[1;33m\u001b[0m\u001b[0m\n\u001b[0;32m    310\u001b[0m                 )\n\u001b[1;32m--> 311\u001b[1;33m             \u001b[1;32mreturn\u001b[0m \u001b[0mfunc\u001b[0m\u001b[1;33m(\u001b[0m\u001b[1;33m*\u001b[0m\u001b[0margs\u001b[0m\u001b[1;33m,\u001b[0m \u001b[1;33m**\u001b[0m\u001b[0mkwargs\u001b[0m\u001b[1;33m)\u001b[0m\u001b[1;33m\u001b[0m\u001b[1;33m\u001b[0m\u001b[0m\n\u001b[0m\u001b[0;32m    312\u001b[0m \u001b[1;33m\u001b[0m\u001b[0m\n\u001b[0;32m    313\u001b[0m         \u001b[1;32mreturn\u001b[0m \u001b[0mwrapper\u001b[0m\u001b[1;33m\u001b[0m\u001b[1;33m\u001b[0m\u001b[0m\n",
      "\u001b[1;32m~\\anaconda3\\lib\\site-packages\\pandas\\core\\series.py\u001b[0m in \u001b[0;36mfillna\u001b[1;34m(self, value, method, axis, inplace, limit, downcast)\u001b[0m\n\u001b[0;32m   4814\u001b[0m         \u001b[0mdowncast\u001b[0m\u001b[1;33m=\u001b[0m\u001b[1;32mNone\u001b[0m\u001b[1;33m,\u001b[0m\u001b[1;33m\u001b[0m\u001b[1;33m\u001b[0m\u001b[0m\n\u001b[0;32m   4815\u001b[0m     ) -> Series | None:\n\u001b[1;32m-> 4816\u001b[1;33m         return super().fillna(\n\u001b[0m\u001b[0;32m   4817\u001b[0m             \u001b[0mvalue\u001b[0m\u001b[1;33m=\u001b[0m\u001b[0mvalue\u001b[0m\u001b[1;33m,\u001b[0m\u001b[1;33m\u001b[0m\u001b[1;33m\u001b[0m\u001b[0m\n\u001b[0;32m   4818\u001b[0m             \u001b[0mmethod\u001b[0m\u001b[1;33m=\u001b[0m\u001b[0mmethod\u001b[0m\u001b[1;33m,\u001b[0m\u001b[1;33m\u001b[0m\u001b[1;33m\u001b[0m\u001b[0m\n",
      "\u001b[1;32m~\\anaconda3\\lib\\site-packages\\pandas\\core\\generic.py\u001b[0m in \u001b[0;36mfillna\u001b[1;34m(self, value, method, axis, inplace, limit, downcast)\u001b[0m\n\u001b[0;32m   6351\u001b[0m                     \u001b[1;32mpass\u001b[0m\u001b[1;33m\u001b[0m\u001b[1;33m\u001b[0m\u001b[0m\n\u001b[0;32m   6352\u001b[0m                 \u001b[1;32melse\u001b[0m\u001b[1;33m:\u001b[0m\u001b[1;33m\u001b[0m\u001b[1;33m\u001b[0m\u001b[0m\n\u001b[1;32m-> 6353\u001b[1;33m                     raise TypeError(\n\u001b[0m\u001b[0;32m   6354\u001b[0m                         \u001b[1;34m'\"value\" parameter must be a scalar, dict '\u001b[0m\u001b[1;33m\u001b[0m\u001b[1;33m\u001b[0m\u001b[0m\n\u001b[0;32m   6355\u001b[0m                         \u001b[1;34m\"or Series, but you passed a \"\u001b[0m\u001b[1;33m\u001b[0m\u001b[1;33m\u001b[0m\u001b[0m\n",
      "\u001b[1;31mTypeError\u001b[0m: \"value\" parameter must be a scalar, dict or Series, but you passed a \"DataFrame\""
     ]
    }
   ],
   "source": [
    "df['age'].fillna(df[df['age'].isnull()].apply(get_element, axis=1), inplace=True)"
   ]
  },
  {
   "cell_type": "code",
   "execution_count": null,
   "id": "faf693e9",
   "metadata": {},
   "outputs": [],
   "source": []
  },
  {
   "cell_type": "code",
   "execution_count": null,
   "id": "db4c31bf",
   "metadata": {},
   "outputs": [],
   "source": []
  },
  {
   "cell_type": "code",
   "execution_count": null,
   "id": "8dd8f7d3",
   "metadata": {},
   "outputs": [],
   "source": []
  },
  {
   "cell_type": "code",
   "execution_count": 19,
   "id": "27ae59a5",
   "metadata": {},
   "outputs": [],
   "source": []
  },
  {
   "cell_type": "code",
   "execution_count": null,
   "id": "6f22ad16",
   "metadata": {},
   "outputs": [],
   "source": []
  },
  {
   "cell_type": "code",
   "execution_count": null,
   "id": "c0b59ddc",
   "metadata": {},
   "outputs": [],
   "source": []
  },
  {
   "cell_type": "code",
   "execution_count": null,
   "id": "fd0447c1",
   "metadata": {},
   "outputs": [],
   "source": []
  },
  {
   "cell_type": "code",
   "execution_count": null,
   "id": "d2517b46",
   "metadata": {},
   "outputs": [],
   "source": []
  },
  {
   "cell_type": "code",
   "execution_count": null,
   "id": "969d88f8",
   "metadata": {},
   "outputs": [],
   "source": []
  },
  {
   "cell_type": "code",
   "execution_count": null,
   "id": "8fb2e501",
   "metadata": {},
   "outputs": [],
   "source": []
  },
  {
   "cell_type": "code",
   "execution_count": null,
   "id": "93d9ca6d",
   "metadata": {},
   "outputs": [],
   "source": []
  },
  {
   "cell_type": "code",
   "execution_count": null,
   "id": "9a4b4272",
   "metadata": {},
   "outputs": [],
   "source": []
  },
  {
   "cell_type": "code",
   "execution_count": null,
   "id": "1a9b7c8c",
   "metadata": {},
   "outputs": [],
   "source": []
  }
 ],
 "metadata": {
  "kernelspec": {
   "display_name": "Python 3 (ipykernel)",
   "language": "python",
   "name": "python3"
  },
  "language_info": {
   "codemirror_mode": {
    "name": "ipython",
    "version": 3
   },
   "file_extension": ".py",
   "mimetype": "text/x-python",
   "name": "python",
   "nbconvert_exporter": "python",
   "pygments_lexer": "ipython3",
   "version": "3.9.7"
  }
 },
 "nbformat": 4,
 "nbformat_minor": 5
}
