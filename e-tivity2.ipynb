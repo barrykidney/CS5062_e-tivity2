{
 "cells": [
  {
   "cell_type": "markdown",
   "id": "6184e7c3",
   "metadata": {},
   "source": [
    "# E-tivity 2: Data Preparation"
   ]
  },
  {
   "cell_type": "markdown",
   "id": "054ffc8d",
   "metadata": {},
   "source": [
    "### Name: Barry O' Dubhain"
   ]
  },
  {
   "cell_type": "markdown",
   "id": "f473881a",
   "metadata": {},
   "source": [
    "### Student ID: 21384401"
   ]
  },
  {
   "cell_type": "markdown",
   "id": "d588258d",
   "metadata": {},
   "source": [
    "## A. Import Python Modules and Dataset"
   ]
  },
  {
   "cell_type": "code",
   "execution_count": 1,
   "id": "44db2a50",
   "metadata": {},
   "outputs": [],
   "source": [
    "import pandas as pd\n",
    "import numpy as np\n",
    "from sklearn.preprocessing import RobustScaler\n",
    "import matplotlib.pyplot as plt\n",
    "%matplotlib inline"
   ]
  },
  {
   "cell_type": "markdown",
   "id": "65721daa",
   "metadata": {},
   "source": [
    "This is a description of the what the attributes represent.\n",
    "\n",
    "#### Input variables:\n",
    "#### bank client data:\n",
    "1. **age**: age of client (numeric)\n",
    "2. **job**: type of job (categorical: 'admin.','blue collar','entrepreneur','housemaid','management','retired','self-employed','services','student','technician','unemployed','unknown')\n",
    "3. **marital** : marital status (categorical: 'divorced','married','single','unknown'; note: 'divorced' means divorced or widowed)\n",
    "4. **education** (categorical: 'basic.4y','basic.6y','basic.9y','high.school','illiterate','professional.course','university.degree','unknown')\n",
    "5. **default**: has credit in default? (categorical: 'no','yes','unknown')\n",
    "6. **balance**: the balance in the clients current account\n",
    "7. **housing**: has housing loan? (categorical: 'no','yes','unknown')\n",
    "8. **loan**: has personal loan? (categorical: 'no','yes','unknown')\n",
    "\n",
    "#### related with the last contact of the current campaign:\n",
    "9. **contact**: contact communication type (categorical: 'cellular','telephone')\n",
    "10. **month**: last contact month of year (categorical: 'jan', 'feb', 'mar', ..., 'nov', 'dec')\n",
    "11. **day_of_week**: last contact day of the week (categorical: 'mon','tue','wed','thu','fri')\n",
    "12. **duration**: last contact duration, in seconds (numeric). Important note: this attribute highly affects the output target (e.g., if duration=0 then y='no'). Yet, the duration is not known before a call is performed. Also, after the end of the call y is obviously known. Thus, this input should only be included for benchmark purposes and should be discarded if the intention is to have a realistic predictive model.\n",
    "\n",
    "#### other attributes:\n",
    "13. **campaign**: number of contacts performed during this campaign and for this client (numeric, includes last contact)\n",
    "14. **pdays**: number of days that passed by after the client was last contacted from a previous campaign (numeric; 999 means client was not previously contacted)\n",
    "15. **previous**: number of contacts performed before this campaign and for this client (numeric)\n",
    "16. **poutcome**: outcome of the previous marketing campaign (categorical: 'failure','nonexistent','success')\n",
    "\n",
    "#### Output variable (desired target):\n",
    "17. **subscribed**: has the client subscribed a term deposit? (binary: 'yes','no')\n",
    "\n",
    "source: https://archive.ics.uci.edu/ml/datasets/bank+marketing"
   ]
  },
  {
   "cell_type": "code",
   "execution_count": 2,
   "id": "03a2fd14",
   "metadata": {},
   "outputs": [],
   "source": [
    "df = pd.read_csv(\"./bank.csv\")"
   ]
  },
  {
   "cell_type": "code",
   "execution_count": 3,
   "id": "b012e1c5",
   "metadata": {},
   "outputs": [
    {
     "data": {
      "text/html": [
       "<div>\n",
       "<style scoped>\n",
       "    .dataframe tbody tr th:only-of-type {\n",
       "        vertical-align: middle;\n",
       "    }\n",
       "\n",
       "    .dataframe tbody tr th {\n",
       "        vertical-align: top;\n",
       "    }\n",
       "\n",
       "    .dataframe thead th {\n",
       "        text-align: right;\n",
       "    }\n",
       "</style>\n",
       "<table border=\"1\" class=\"dataframe\">\n",
       "  <thead>\n",
       "    <tr style=\"text-align: right;\">\n",
       "      <th></th>\n",
       "      <th>age</th>\n",
       "      <th>job</th>\n",
       "      <th>marital</th>\n",
       "      <th>education</th>\n",
       "      <th>default</th>\n",
       "      <th>balance</th>\n",
       "      <th>housing</th>\n",
       "      <th>loan</th>\n",
       "      <th>contact</th>\n",
       "      <th>day</th>\n",
       "      <th>month</th>\n",
       "      <th>duration</th>\n",
       "      <th>campaign</th>\n",
       "      <th>pdays</th>\n",
       "      <th>previous</th>\n",
       "      <th>poutcome</th>\n",
       "      <th>subscribed</th>\n",
       "    </tr>\n",
       "  </thead>\n",
       "  <tbody>\n",
       "    <tr>\n",
       "      <th>0</th>\n",
       "      <td>32.0</td>\n",
       "      <td>technician</td>\n",
       "      <td>single</td>\n",
       "      <td>tertiary</td>\n",
       "      <td>no</td>\n",
       "      <td>392</td>\n",
       "      <td>yes</td>\n",
       "      <td>no</td>\n",
       "      <td>cellular</td>\n",
       "      <td>1</td>\n",
       "      <td>apr</td>\n",
       "      <td>957</td>\n",
       "      <td>2</td>\n",
       "      <td>131</td>\n",
       "      <td>2</td>\n",
       "      <td>failure</td>\n",
       "      <td>no</td>\n",
       "    </tr>\n",
       "    <tr>\n",
       "      <th>1</th>\n",
       "      <td>39.0</td>\n",
       "      <td>technician</td>\n",
       "      <td>divorced</td>\n",
       "      <td>secondary</td>\n",
       "      <td>no</td>\n",
       "      <td>688</td>\n",
       "      <td>yes</td>\n",
       "      <td>yes</td>\n",
       "      <td>cellular</td>\n",
       "      <td>1</td>\n",
       "      <td>apr</td>\n",
       "      <td>233</td>\n",
       "      <td>2</td>\n",
       "      <td>133</td>\n",
       "      <td>1</td>\n",
       "      <td>failure</td>\n",
       "      <td>no</td>\n",
       "    </tr>\n",
       "    <tr>\n",
       "      <th>2</th>\n",
       "      <td>59.0</td>\n",
       "      <td>retired</td>\n",
       "      <td>married</td>\n",
       "      <td>secondary</td>\n",
       "      <td>no</td>\n",
       "      <td>1035</td>\n",
       "      <td>yes</td>\n",
       "      <td>yes</td>\n",
       "      <td>cellular</td>\n",
       "      <td>1</td>\n",
       "      <td>apr</td>\n",
       "      <td>126</td>\n",
       "      <td>2</td>\n",
       "      <td>239</td>\n",
       "      <td>1</td>\n",
       "      <td>failure</td>\n",
       "      <td>no</td>\n",
       "    </tr>\n",
       "    <tr>\n",
       "      <th>3</th>\n",
       "      <td>47.0</td>\n",
       "      <td>blue-collar</td>\n",
       "      <td>married</td>\n",
       "      <td>secondary</td>\n",
       "      <td>no</td>\n",
       "      <td>398</td>\n",
       "      <td>yes</td>\n",
       "      <td>yes</td>\n",
       "      <td>cellular</td>\n",
       "      <td>1</td>\n",
       "      <td>apr</td>\n",
       "      <td>274</td>\n",
       "      <td>1</td>\n",
       "      <td>238</td>\n",
       "      <td>2</td>\n",
       "      <td>failure</td>\n",
       "      <td>no</td>\n",
       "    </tr>\n",
       "    <tr>\n",
       "      <th>4</th>\n",
       "      <td>54.0</td>\n",
       "      <td>retired</td>\n",
       "      <td>married</td>\n",
       "      <td>secondary</td>\n",
       "      <td>no</td>\n",
       "      <td>1004</td>\n",
       "      <td>yes</td>\n",
       "      <td>no</td>\n",
       "      <td>cellular</td>\n",
       "      <td>1</td>\n",
       "      <td>apr</td>\n",
       "      <td>479</td>\n",
       "      <td>1</td>\n",
       "      <td>307</td>\n",
       "      <td>1</td>\n",
       "      <td>failure</td>\n",
       "      <td>no</td>\n",
       "    </tr>\n",
       "  </tbody>\n",
       "</table>\n",
       "</div>"
      ],
      "text/plain": [
       "    age          job   marital  education default  balance housing loan  \\\n",
       "0  32.0   technician    single   tertiary      no      392     yes   no   \n",
       "1  39.0   technician  divorced  secondary      no      688     yes  yes   \n",
       "2  59.0      retired   married  secondary      no     1035     yes  yes   \n",
       "3  47.0  blue-collar   married  secondary      no      398     yes  yes   \n",
       "4  54.0      retired   married  secondary      no     1004     yes   no   \n",
       "\n",
       "    contact  day month  duration  campaign  pdays  previous poutcome  \\\n",
       "0  cellular    1   apr       957         2    131         2  failure   \n",
       "1  cellular    1   apr       233         2    133         1  failure   \n",
       "2  cellular    1   apr       126         2    239         1  failure   \n",
       "3  cellular    1   apr       274         1    238         2  failure   \n",
       "4  cellular    1   apr       479         1    307         1  failure   \n",
       "\n",
       "  subscribed  \n",
       "0         no  \n",
       "1         no  \n",
       "2         no  \n",
       "3         no  \n",
       "4         no  "
      ]
     },
     "execution_count": 3,
     "metadata": {},
     "output_type": "execute_result"
    }
   ],
   "source": [
    "df.head(5)"
   ]
  },
  {
   "cell_type": "code",
   "execution_count": 4,
   "id": "188db667",
   "metadata": {},
   "outputs": [
    {
     "data": {
      "text/html": [
       "<div>\n",
       "<style scoped>\n",
       "    .dataframe tbody tr th:only-of-type {\n",
       "        vertical-align: middle;\n",
       "    }\n",
       "\n",
       "    .dataframe tbody tr th {\n",
       "        vertical-align: top;\n",
       "    }\n",
       "\n",
       "    .dataframe thead th {\n",
       "        text-align: right;\n",
       "    }\n",
       "</style>\n",
       "<table border=\"1\" class=\"dataframe\">\n",
       "  <thead>\n",
       "    <tr style=\"text-align: right;\">\n",
       "      <th></th>\n",
       "      <th>age</th>\n",
       "      <th>job</th>\n",
       "      <th>marital</th>\n",
       "      <th>education</th>\n",
       "      <th>default</th>\n",
       "      <th>balance</th>\n",
       "      <th>housing</th>\n",
       "      <th>loan</th>\n",
       "      <th>contact</th>\n",
       "      <th>day</th>\n",
       "      <th>month</th>\n",
       "      <th>duration</th>\n",
       "      <th>campaign</th>\n",
       "      <th>pdays</th>\n",
       "      <th>previous</th>\n",
       "      <th>poutcome</th>\n",
       "      <th>subscribed</th>\n",
       "    </tr>\n",
       "  </thead>\n",
       "  <tbody>\n",
       "    <tr>\n",
       "      <th>1995</th>\n",
       "      <td>20.0</td>\n",
       "      <td>student</td>\n",
       "      <td>single</td>\n",
       "      <td>NaN</td>\n",
       "      <td>no</td>\n",
       "      <td>2785</td>\n",
       "      <td>no</td>\n",
       "      <td>no</td>\n",
       "      <td>cellular</td>\n",
       "      <td>16</td>\n",
       "      <td>sep</td>\n",
       "      <td>327</td>\n",
       "      <td>2</td>\n",
       "      <td>-1</td>\n",
       "      <td>0</td>\n",
       "      <td>NaN</td>\n",
       "      <td>yes</td>\n",
       "    </tr>\n",
       "    <tr>\n",
       "      <th>1996</th>\n",
       "      <td>28.0</td>\n",
       "      <td>admin.</td>\n",
       "      <td>single</td>\n",
       "      <td>secondary</td>\n",
       "      <td>no</td>\n",
       "      <td>127</td>\n",
       "      <td>no</td>\n",
       "      <td>no</td>\n",
       "      <td>cellular</td>\n",
       "      <td>16</td>\n",
       "      <td>sep</td>\n",
       "      <td>1334</td>\n",
       "      <td>2</td>\n",
       "      <td>-1</td>\n",
       "      <td>0</td>\n",
       "      <td>NaN</td>\n",
       "      <td>yes</td>\n",
       "    </tr>\n",
       "    <tr>\n",
       "      <th>1997</th>\n",
       "      <td>81.0</td>\n",
       "      <td>retired</td>\n",
       "      <td>married</td>\n",
       "      <td>primary</td>\n",
       "      <td>no</td>\n",
       "      <td>1154</td>\n",
       "      <td>no</td>\n",
       "      <td>no</td>\n",
       "      <td>telephone</td>\n",
       "      <td>17</td>\n",
       "      <td>sep</td>\n",
       "      <td>231</td>\n",
       "      <td>1</td>\n",
       "      <td>-1</td>\n",
       "      <td>0</td>\n",
       "      <td>NaN</td>\n",
       "      <td>yes</td>\n",
       "    </tr>\n",
       "    <tr>\n",
       "      <th>1998</th>\n",
       "      <td>46.0</td>\n",
       "      <td>services</td>\n",
       "      <td>married</td>\n",
       "      <td>primary</td>\n",
       "      <td>no</td>\n",
       "      <td>4343</td>\n",
       "      <td>yes</td>\n",
       "      <td>no</td>\n",
       "      <td>NaN</td>\n",
       "      <td>20</td>\n",
       "      <td>sep</td>\n",
       "      <td>185</td>\n",
       "      <td>1</td>\n",
       "      <td>-1</td>\n",
       "      <td>0</td>\n",
       "      <td>NaN</td>\n",
       "      <td>yes</td>\n",
       "    </tr>\n",
       "    <tr>\n",
       "      <th>1999</th>\n",
       "      <td>40.0</td>\n",
       "      <td>entrepreneur</td>\n",
       "      <td>married</td>\n",
       "      <td>secondary</td>\n",
       "      <td>no</td>\n",
       "      <td>6403</td>\n",
       "      <td>no</td>\n",
       "      <td>no</td>\n",
       "      <td>cellular</td>\n",
       "      <td>22</td>\n",
       "      <td>sep</td>\n",
       "      <td>208</td>\n",
       "      <td>2</td>\n",
       "      <td>-1</td>\n",
       "      <td>0</td>\n",
       "      <td>NaN</td>\n",
       "      <td>yes</td>\n",
       "    </tr>\n",
       "  </tbody>\n",
       "</table>\n",
       "</div>"
      ],
      "text/plain": [
       "       age           job  marital  education default  balance housing loan  \\\n",
       "1995  20.0       student   single        NaN      no     2785      no   no   \n",
       "1996  28.0        admin.   single  secondary      no      127      no   no   \n",
       "1997  81.0       retired  married    primary      no     1154      no   no   \n",
       "1998  46.0      services  married    primary      no     4343     yes   no   \n",
       "1999  40.0  entrepreneur  married  secondary      no     6403      no   no   \n",
       "\n",
       "        contact  day month  duration  campaign  pdays  previous poutcome  \\\n",
       "1995   cellular   16   sep       327         2     -1         0      NaN   \n",
       "1996   cellular   16   sep      1334         2     -1         0      NaN   \n",
       "1997  telephone   17   sep       231         1     -1         0      NaN   \n",
       "1998        NaN   20   sep       185         1     -1         0      NaN   \n",
       "1999   cellular   22   sep       208         2     -1         0      NaN   \n",
       "\n",
       "     subscribed  \n",
       "1995        yes  \n",
       "1996        yes  \n",
       "1997        yes  \n",
       "1998        yes  \n",
       "1999        yes  "
      ]
     },
     "execution_count": 4,
     "metadata": {},
     "output_type": "execute_result"
    }
   ],
   "source": [
    "df.tail(5)"
   ]
  },
  {
   "cell_type": "markdown",
   "id": "9e3d8feb",
   "metadata": {},
   "source": [
    "Verify the quility of the dataset by identifying the number of missing (NaN) values in the dataset."
   ]
  },
  {
   "cell_type": "code",
   "execution_count": 5,
   "id": "3856b844",
   "metadata": {},
   "outputs": [
    {
     "data": {
      "text/plain": [
       "age            12\n",
       "job            10\n",
       "marital         0\n",
       "education     104\n",
       "default         0\n",
       "balance         0\n",
       "housing         0\n",
       "loan            0\n",
       "contact       191\n",
       "day             0\n",
       "month           0\n",
       "duration        0\n",
       "campaign        0\n",
       "pdays           0\n",
       "previous        0\n",
       "poutcome      454\n",
       "subscribed      0\n",
       "dtype: int64"
      ]
     },
     "execution_count": 5,
     "metadata": {},
     "output_type": "execute_result"
    }
   ],
   "source": [
    "df.isna().sum()"
   ]
  },
  {
   "cell_type": "code",
   "execution_count": 6,
   "id": "19d49fc7",
   "metadata": {},
   "outputs": [],
   "source": [
    "df_org = df.copy(deep=True)"
   ]
  },
  {
   "cell_type": "markdown",
   "id": "431b62c8",
   "metadata": {},
   "source": [
    "After a visual examination of the dataset we can conclued that the missing values for the **poutcome** column are an indication of clients that have never previously been contacted."
   ]
  },
  {
   "cell_type": "markdown",
   "id": "c5da3923",
   "metadata": {},
   "source": [
    "### Drop columns that are not useful"
   ]
  },
  {
   "cell_type": "markdown",
   "id": "54251e87",
   "metadata": {},
   "source": [
    "I considered dropping the 'contact' feature because because I don't intuitively see how it adds any information. It is true that people may respond to various means of communication differently, for example, written vs spoken communication but on inspection I found that all examples were of 'cellular' or 'telephone', whether the communication was spoken or via text was not specified. After discussing this in the Q&A session I was informed that the dataset is older than I had assumed it was and the feature does indeed correlate somewhat with the target feature so I decided to keep it in the dataset. In heinsight this show that a feature should not neccessarily be dropped on intuition alone, dropping a column should be justified via analytics."
   ]
  },
  {
   "cell_type": "code",
   "execution_count": 7,
   "id": "dece35bf",
   "metadata": {},
   "outputs": [
    {
     "name": "stdout",
     "output_type": "stream",
     "text": [
      "['cellular' 'telephone' nan]\n"
     ]
    }
   ],
   "source": [
    "print(df_org['contact'].unique())"
   ]
  },
  {
   "cell_type": "code",
   "execution_count": 8,
   "id": "12ccc3ba",
   "metadata": {},
   "outputs": [],
   "source": [
    "# df.drop('contact', axis=1, inplace=True)"
   ]
  },
  {
   "cell_type": "markdown",
   "id": "236c4e57",
   "metadata": {},
   "source": [
    "## B. Process and Encode the Categorical Features"
   ]
  },
  {
   "cell_type": "markdown",
   "id": "a5e282b8",
   "metadata": {},
   "source": [
    "The **poutcome** feature and the **contact** feature both have a large number of NaN values. After a visual examination of the dataset we can conclued that the missing values for the poutcome column are an indication of clients that have never previously been contacted and as such the NaN values represent a legitimate category of not applicable or 'na'. There is no way to determine if the NaN values in the contact feature represent a legitimate category so instead of dropping the column we will encode them as an 'unknown' category because the known values may yet provide some insight."
   ]
  },
  {
   "cell_type": "code",
   "execution_count": 9,
   "id": "2af3a118",
   "metadata": {},
   "outputs": [],
   "source": [
    "df['poutcome'] = df['poutcome'].fillna('na')"
   ]
  },
  {
   "cell_type": "code",
   "execution_count": 10,
   "id": "3970754a",
   "metadata": {},
   "outputs": [],
   "source": [
    "df['contact'] = df['contact'].fillna(\"unknown\")"
   ]
  },
  {
   "cell_type": "markdown",
   "id": "c1578676",
   "metadata": {},
   "source": [
    "### Encode Ordinal Categorical Attributes "
   ]
  },
  {
   "cell_type": "markdown",
   "id": "3d2813aa",
   "metadata": {},
   "source": [
    "The **education** feature is the only truely ordinal feature in the dataset. The **job** attribute is partially ordinal as it will presumably correlate with income level but to set ordinal values would be a subjective exercise so I have therefore decided to treat it as a non-ordinal categorical feature. The education feature has a number of missing values so we will encode them with the most common category."
   ]
  },
  {
   "cell_type": "code",
   "execution_count": 11,
   "id": "83d5f9d6",
   "metadata": {},
   "outputs": [
    {
     "name": "stdout",
     "output_type": "stream",
     "text": [
      "List of unique categories in the 'education' column: ['tertiary' 'secondary' nan 'primary']\n",
      "The number of NaN values in the 'education' column: 104\n"
     ]
    }
   ],
   "source": [
    "print(f\"List of unique categories in the 'education' column: {df['education'].unique()}\\\n",
    "\\nThe number of NaN values in the 'education' column: {df['education'].isna().sum()}\")"
   ]
  },
  {
   "cell_type": "code",
   "execution_count": 12,
   "id": "ecf460de",
   "metadata": {},
   "outputs": [
    {
     "name": "stdout",
     "output_type": "stream",
     "text": [
      "List of unique categories in the 'education' column: ['tertiary' 'secondary' 'primary']\n",
      "The number of NaN values in the 'education' column: 0\n"
     ]
    }
   ],
   "source": [
    "df['education'] = df['education'].fillna(df['education'].value_counts().idxmax())\n",
    "\n",
    "print(f\"List of unique categories in the 'education' column: {df['education'].unique()}\\\n",
    "\\nThe number of NaN values in the 'education' column: {df['education'].isna().sum()}\")"
   ]
  },
  {
   "cell_type": "code",
   "execution_count": 13,
   "id": "ab917cb1",
   "metadata": {},
   "outputs": [
    {
     "name": "stdout",
     "output_type": "stream",
     "text": [
      "List of unique categories in the 'education' column: [2 1 0]\n"
     ]
    }
   ],
   "source": [
    "scale_mapper = {\n",
    "    \"primary\": 0,\n",
    "    \"secondary\": 1,\n",
    "    \"tertiary\": 2\n",
    "}\n",
    "\n",
    "df['education'] = df['education'].replace(scale_mapper)\n",
    "\n",
    "print(f\"List of unique categories in the 'education' column: {df['education'].unique()}\")"
   ]
  },
  {
   "cell_type": "markdown",
   "id": "83404d8e",
   "metadata": {},
   "source": [
    "### Encode Cyclical Attributes "
   ]
  },
  {
   "cell_type": "markdown",
   "id": "f7ba4e5f",
   "metadata": {},
   "source": [
    "The features day and month are cyclical features meaning that they are ordinal by they wrap so that the first and last values are as close as any adjacent values. A typical ordinal encoding will not capture this so we need to use another means of encoding these features. "
   ]
  },
  {
   "cell_type": "code",
   "execution_count": 14,
   "id": "e083640b",
   "metadata": {},
   "outputs": [],
   "source": [
    "df['day'] = np.sin(2 * np.pi * df['day']/30)"
   ]
  },
  {
   "cell_type": "code",
   "execution_count": 15,
   "id": "97859d58",
   "metadata": {},
   "outputs": [
    {
     "name": "stdout",
     "output_type": "stream",
     "text": [
      "Month column before: ['apr' 'dec' 'feb' 'jan' 'mar' 'may' 'nov' 'oct' 'aug' 'jul' 'jun' 'sep']\n",
      "Month column after:  [ 3 11  1  0  2  4 10  9  7  6  5  8]\n"
     ]
    }
   ],
   "source": [
    "print(f\"Month column before: {df['month'].unique()}\")\n",
    "\n",
    "month_mapper = {\n",
    "    \"jan\": 0,\n",
    "    \"feb\": 1,\n",
    "    \"mar\": 2,\n",
    "    \"apr\": 3,\n",
    "    \"may\": 4,\n",
    "    \"jun\": 5,\n",
    "    \"jul\": 6,\n",
    "    \"aug\": 7,\n",
    "    \"sep\": 8,\n",
    "    \"oct\": 9,\n",
    "    \"nov\": 10,\n",
    "    \"dec\": 11\n",
    "}\n",
    "\n",
    "df['month'] = df['month'].replace(month_mapper)\n",
    "\n",
    "print(f\"Month column after:  {df['month'].unique()}\")"
   ]
  },
  {
   "cell_type": "code",
   "execution_count": 16,
   "id": "cbce9fb2",
   "metadata": {},
   "outputs": [],
   "source": [
    "df['month'] = np.sin(2 * np.pi * df['month']/11)"
   ]
  },
  {
   "cell_type": "markdown",
   "id": "ec22306f",
   "metadata": {},
   "source": [
    "The pdays attribute indicates the number of days that passed by after the client was last contacted from a previous campaign. This column contains many -1 values, The site: https://archive.ics.uci.edu/ml/datasets/bank+marketing describes this dataset and for the pdays column it states that \"numeric; 999 means client was not previously contacted\" the value 999 does not appear in this version of the dataset, by visually examining columns previous and poutcome we can conclued that the -1 values are the 999 values referred to. I will therefore convert them back to 999 as -1 values will influence the average value and 999 is a more accurate representation of a client that has never been contacted."
   ]
  },
  {
   "cell_type": "code",
   "execution_count": 17,
   "id": "e6fa84b3",
   "metadata": {},
   "outputs": [],
   "source": [
    "df['pdays'].mask(df['pdays'] == -1, 999, inplace=True)"
   ]
  },
  {
   "cell_type": "markdown",
   "id": "846b3306",
   "metadata": {},
   "source": [
    "There are a number of missing values in the job attribute, we will encode them with a new category 'unknown'."
   ]
  },
  {
   "cell_type": "code",
   "execution_count": 18,
   "id": "536b5c4d",
   "metadata": {},
   "outputs": [
    {
     "name": "stdout",
     "output_type": "stream",
     "text": [
      "List of unique categories in the 'education' column: ['technician' 'retired' 'blue-collar' 'self-employed' 'services'\n",
      " 'management' 'admin.' 'unemployed' 'student' 'entrepreneur' 'housemaid'\n",
      " nan]\n",
      "The number of NaN values in the 'education' column: 10\n"
     ]
    }
   ],
   "source": [
    "print(f\"List of unique categories in the 'education' column: {df['job'].unique()}\\\n",
    "\\nThe number of NaN values in the 'education' column: {df['job'].isna().sum()}\")"
   ]
  },
  {
   "cell_type": "code",
   "execution_count": 19,
   "id": "20c240c6",
   "metadata": {},
   "outputs": [
    {
     "name": "stdout",
     "output_type": "stream",
     "text": [
      "List of unique categories in the 'education' column: ['technician' 'retired' 'blue-collar' 'self-employed' 'services'\n",
      " 'management' 'admin.' 'unemployed' 'student' 'entrepreneur' 'housemaid'\n",
      " 'unknown']\n",
      "The number of NaN values in the 'education' column: 0\n"
     ]
    }
   ],
   "source": [
    "df['job'] = df['job'].fillna(\"unknown\")\n",
    "\n",
    "print(f\"List of unique categories in the 'education' column: {df['job'].unique()}\\\n",
    "\\nThe number of NaN values in the 'education' column: {df['job'].isna().sum()}\")"
   ]
  },
  {
   "cell_type": "markdown",
   "id": "3286879d",
   "metadata": {},
   "source": [
    " ### One-Hot Encode All Other Categorical Attributes"
   ]
  },
  {
   "cell_type": "markdown",
   "id": "93d1bacc",
   "metadata": {},
   "source": [
    "The **marital**, **housing**, **default**, **loan**, **month**, **job**, **poutcome** features are categorical/boolean features and will be one-hot encoded. None of these features have nan values. job has 10 NaN values but because I have decided to treat this feature as non-ordinal the NaN values can be treated as a category."
   ]
  },
  {
   "cell_type": "code",
   "execution_count": 20,
   "id": "783e6c79",
   "metadata": {},
   "outputs": [
    {
     "name": "stdout",
     "output_type": "stream",
     "text": [
      "default: ['no' 'yes']\n",
      "housing: ['yes' 'no']\n",
      "loan: ['no' 'yes']\n",
      "marital: ['single' 'divorced' 'married']\n",
      "job: ['technician' 'retired' 'blue-collar' 'self-employed' 'services'\n",
      " 'management' 'admin.' 'unemployed' 'student' 'entrepreneur' 'housemaid'\n",
      " nan]\n",
      "poutcome: ['failure' 'other' 'success' nan]\n"
     ]
    }
   ],
   "source": [
    "print(f\"default: {df_org['default'].unique()}\\\n",
    "\\nhousing: {df_org['housing'].unique()}\\\n",
    "\\nloan: {df_org['loan'].unique()}\\\n",
    "\\nmarital: {df_org['marital'].unique()}\\\n",
    "\\njob: {df_org['job'].unique()}\\\n",
    "\\npoutcome: {df_org['poutcome'].unique()}\")"
   ]
  },
  {
   "cell_type": "code",
   "execution_count": 21,
   "id": "9bffaf9d",
   "metadata": {},
   "outputs": [
    {
     "data": {
      "text/html": [
       "<div>\n",
       "<style scoped>\n",
       "    .dataframe tbody tr th:only-of-type {\n",
       "        vertical-align: middle;\n",
       "    }\n",
       "\n",
       "    .dataframe tbody tr th {\n",
       "        vertical-align: top;\n",
       "    }\n",
       "\n",
       "    .dataframe thead th {\n",
       "        text-align: right;\n",
       "    }\n",
       "</style>\n",
       "<table border=\"1\" class=\"dataframe\">\n",
       "  <thead>\n",
       "    <tr style=\"text-align: right;\">\n",
       "      <th></th>\n",
       "      <th>age</th>\n",
       "      <th>education</th>\n",
       "      <th>balance</th>\n",
       "      <th>contact</th>\n",
       "      <th>day</th>\n",
       "      <th>month</th>\n",
       "      <th>duration</th>\n",
       "      <th>campaign</th>\n",
       "      <th>pdays</th>\n",
       "      <th>previous</th>\n",
       "      <th>...</th>\n",
       "      <th>job_retired</th>\n",
       "      <th>job_self-employed</th>\n",
       "      <th>job_services</th>\n",
       "      <th>job_student</th>\n",
       "      <th>job_technician</th>\n",
       "      <th>job_unemployed</th>\n",
       "      <th>job_unknown</th>\n",
       "      <th>poutcome_na</th>\n",
       "      <th>poutcome_other</th>\n",
       "      <th>poutcome_success</th>\n",
       "    </tr>\n",
       "  </thead>\n",
       "  <tbody>\n",
       "    <tr>\n",
       "      <th>0</th>\n",
       "      <td>32.0</td>\n",
       "      <td>2</td>\n",
       "      <td>392</td>\n",
       "      <td>cellular</td>\n",
       "      <td>0.207912</td>\n",
       "      <td>0.989821</td>\n",
       "      <td>957</td>\n",
       "      <td>2</td>\n",
       "      <td>131</td>\n",
       "      <td>2</td>\n",
       "      <td>...</td>\n",
       "      <td>0</td>\n",
       "      <td>0</td>\n",
       "      <td>0</td>\n",
       "      <td>0</td>\n",
       "      <td>1</td>\n",
       "      <td>0</td>\n",
       "      <td>0</td>\n",
       "      <td>0</td>\n",
       "      <td>0</td>\n",
       "      <td>0</td>\n",
       "    </tr>\n",
       "    <tr>\n",
       "      <th>1</th>\n",
       "      <td>39.0</td>\n",
       "      <td>1</td>\n",
       "      <td>688</td>\n",
       "      <td>cellular</td>\n",
       "      <td>0.207912</td>\n",
       "      <td>0.989821</td>\n",
       "      <td>233</td>\n",
       "      <td>2</td>\n",
       "      <td>133</td>\n",
       "      <td>1</td>\n",
       "      <td>...</td>\n",
       "      <td>0</td>\n",
       "      <td>0</td>\n",
       "      <td>0</td>\n",
       "      <td>0</td>\n",
       "      <td>1</td>\n",
       "      <td>0</td>\n",
       "      <td>0</td>\n",
       "      <td>0</td>\n",
       "      <td>0</td>\n",
       "      <td>0</td>\n",
       "    </tr>\n",
       "    <tr>\n",
       "      <th>2</th>\n",
       "      <td>59.0</td>\n",
       "      <td>1</td>\n",
       "      <td>1035</td>\n",
       "      <td>cellular</td>\n",
       "      <td>0.207912</td>\n",
       "      <td>0.989821</td>\n",
       "      <td>126</td>\n",
       "      <td>2</td>\n",
       "      <td>239</td>\n",
       "      <td>1</td>\n",
       "      <td>...</td>\n",
       "      <td>1</td>\n",
       "      <td>0</td>\n",
       "      <td>0</td>\n",
       "      <td>0</td>\n",
       "      <td>0</td>\n",
       "      <td>0</td>\n",
       "      <td>0</td>\n",
       "      <td>0</td>\n",
       "      <td>0</td>\n",
       "      <td>0</td>\n",
       "    </tr>\n",
       "    <tr>\n",
       "      <th>3</th>\n",
       "      <td>47.0</td>\n",
       "      <td>1</td>\n",
       "      <td>398</td>\n",
       "      <td>cellular</td>\n",
       "      <td>0.207912</td>\n",
       "      <td>0.989821</td>\n",
       "      <td>274</td>\n",
       "      <td>1</td>\n",
       "      <td>238</td>\n",
       "      <td>2</td>\n",
       "      <td>...</td>\n",
       "      <td>0</td>\n",
       "      <td>0</td>\n",
       "      <td>0</td>\n",
       "      <td>0</td>\n",
       "      <td>0</td>\n",
       "      <td>0</td>\n",
       "      <td>0</td>\n",
       "      <td>0</td>\n",
       "      <td>0</td>\n",
       "      <td>0</td>\n",
       "    </tr>\n",
       "    <tr>\n",
       "      <th>4</th>\n",
       "      <td>54.0</td>\n",
       "      <td>1</td>\n",
       "      <td>1004</td>\n",
       "      <td>cellular</td>\n",
       "      <td>0.207912</td>\n",
       "      <td>0.989821</td>\n",
       "      <td>479</td>\n",
       "      <td>1</td>\n",
       "      <td>307</td>\n",
       "      <td>1</td>\n",
       "      <td>...</td>\n",
       "      <td>1</td>\n",
       "      <td>0</td>\n",
       "      <td>0</td>\n",
       "      <td>0</td>\n",
       "      <td>0</td>\n",
       "      <td>0</td>\n",
       "      <td>0</td>\n",
       "      <td>0</td>\n",
       "      <td>0</td>\n",
       "      <td>0</td>\n",
       "    </tr>\n",
       "  </tbody>\n",
       "</table>\n",
       "<p>5 rows × 30 columns</p>\n",
       "</div>"
      ],
      "text/plain": [
       "    age  education  balance   contact       day     month  duration  campaign  \\\n",
       "0  32.0          2      392  cellular  0.207912  0.989821       957         2   \n",
       "1  39.0          1      688  cellular  0.207912  0.989821       233         2   \n",
       "2  59.0          1     1035  cellular  0.207912  0.989821       126         2   \n",
       "3  47.0          1      398  cellular  0.207912  0.989821       274         1   \n",
       "4  54.0          1     1004  cellular  0.207912  0.989821       479         1   \n",
       "\n",
       "   pdays  previous  ... job_retired  job_self-employed  job_services  \\\n",
       "0    131         2  ...           0                  0             0   \n",
       "1    133         1  ...           0                  0             0   \n",
       "2    239         1  ...           1                  0             0   \n",
       "3    238         2  ...           0                  0             0   \n",
       "4    307         1  ...           1                  0             0   \n",
       "\n",
       "   job_student  job_technician  job_unemployed  job_unknown  poutcome_na  \\\n",
       "0            0               1               0            0            0   \n",
       "1            0               1               0            0            0   \n",
       "2            0               0               0            0            0   \n",
       "3            0               0               0            0            0   \n",
       "4            0               0               0            0            0   \n",
       "\n",
       "   poutcome_other  poutcome_success  \n",
       "0               0                 0  \n",
       "1               0                 0  \n",
       "2               0                 0  \n",
       "3               0                 0  \n",
       "4               0                 0  \n",
       "\n",
       "[5 rows x 30 columns]"
      ]
     },
     "execution_count": 21,
     "metadata": {},
     "output_type": "execute_result"
    }
   ],
   "source": [
    "df = pd.get_dummies(df, columns=['marital', 'housing', 'default', 'loan', 'job', 'poutcome'], drop_first=True)\n",
    "df.head()"
   ]
  },
  {
   "cell_type": "code",
   "execution_count": 22,
   "id": "1c370ea6",
   "metadata": {},
   "outputs": [
    {
     "name": "stdout",
     "output_type": "stream",
     "text": [
      "['age', 'education', 'balance', 'contact', 'day', 'month', 'duration', 'campaign', 'pdays', 'previous', 'subscribed', 'marital_married', 'marital_single', 'housing_yes', 'default_yes', 'loan_yes', 'job_blue-collar', 'job_entrepreneur', 'job_housemaid', 'job_management', 'job_retired', 'job_self-employed', 'job_services', 'job_student', 'job_technician', 'job_unemployed', 'job_unknown', 'poutcome_na', 'poutcome_other', 'poutcome_success']\n"
     ]
    }
   ],
   "source": [
    "print(list(df.columns.values))"
   ]
  },
  {
   "cell_type": "markdown",
   "id": "1163b109",
   "metadata": {},
   "source": [
    "## C. Treatment of Missing Values in Numerical Columns"
   ]
  },
  {
   "cell_type": "code",
   "execution_count": 23,
   "id": "dbb90a62",
   "metadata": {},
   "outputs": [
    {
     "name": "stdout",
     "output_type": "stream",
     "text": [
      "age : 12\n"
     ]
    }
   ],
   "source": [
    "for idx, att in enumerate(list(df.columns.values)):\n",
    "    if df[att].isna().sum() > 0: \n",
    "        print(f\"{att} : {df[att].isna().sum()}\")"
   ]
  },
  {
   "cell_type": "code",
   "execution_count": 24,
   "id": "54cd5424",
   "metadata": {},
   "outputs": [
    {
     "name": "stdout",
     "output_type": "stream",
     "text": [
      "0.01% of the 'age' feature is missing values,\n",
      "this is less than 25% therefore we will not be dropping this column.\n"
     ]
    }
   ],
   "source": [
    "print(f\"{round(df['age'].isna().sum() / len(df), 2)}% of the 'age' feature is missing values,\\\n",
    "\\nthis is less than 25% therefore we will not be dropping this column.\")"
   ]
  },
  {
   "cell_type": "markdown",
   "id": "c36409e3",
   "metadata": {},
   "source": [
    "In order to replace the missing values in the age feature we could just find the mean value for that column and replace the missing values with that: df['age'].fillna(df['age'].mean(), inplace=True) but there are more accurate methods available so instead, we will look to other features that may provide an indication of the age of the example. We will print the box plots of what we deem to be the most indicative features to comfirm our assumptions. I have chosen marital status, whether an example is retired, student or neither and home ownership as indicators of age."
   ]
  },
  {
   "cell_type": "code",
   "execution_count": 25,
   "id": "6b9c6eed",
   "metadata": {},
   "outputs": [
    {
     "data": {
      "image/png": "[encoded data removed]",
      "text/plain": [
       "<Figure size 432x288 with 1 Axes>"
      ]
     },
     "metadata": {
      "needs_background": "light"
     },
     "output_type": "display_data"
    },
    {
     "data": {
      "image/png": "[encoded data removed]",
      "text/plain": [
       "<Figure size 432x288 with 1 Axes>"
      ]
     },
     "metadata": {
      "needs_background": "light"
     },
     "output_type": "display_data"
    },
    {
     "data": {
      "image/png": "[encoded data removed]",
      "text/plain": [
       "<Figure size 432x288 with 1 Axes>"
      ]
     },
     "metadata": {
      "needs_background": "light"
     },
     "output_type": "display_data"
    }
   ],
   "source": [
    "df.boxplot(column='age', by=['marital_married', 'marital_single'], rot=45)\n",
    "plt.title(\"Marital status\")\n",
    "plt.show()\n",
    "\n",
    "df.boxplot(column='age', by=['job_retired', 'job_student'], rot=45)\n",
    "plt.title(\"student/retired\")\n",
    "plt.show()\n",
    "\n",
    "df.boxplot(column='age', by=['housing_yes'], rot=45)\n",
    "plt.title(\"housing\")\n",
    "plt.show()"
   ]
  },
  {
   "cell_type": "markdown",
   "id": "d946b566",
   "metadata": {},
   "source": [
    "We can see from the box plots that both marital status and job student/retired are good indicators of age but housing is not. We will therefore ignore home ownership for the purposed of estimating the age of examples."
   ]
  },
  {
   "cell_type": "code",
   "execution_count": 38,
   "id": "feed9886",
   "metadata": {},
   "outputs": [
    {
     "name": "stdout",
     "output_type": "stream",
     "text": [
      "                                                             age\n",
      "job_retired job_student marital_married marital_single          \n",
      "0           0           0               0               0.277778\n",
      "                                        1              -0.333333\n",
      "                        1               0               0.222222\n",
      "            1           0               0               0.000000\n",
      "                                        1              -0.722222\n",
      "                        1               0              -0.277778\n",
      "1           0           0               0               1.611111\n",
      "                                        1               1.250000\n",
      "                        1               0               1.611111\n"
     ]
    }
   ],
   "source": [
    "ptable = df.pivot_table(values='age', \n",
    "                        index=['job_retired', 'job_student', 'marital_married', 'marital_single'],\n",
    "                        aggfunc=np.median)\n",
    "print(ptable)"
   ]
  },
  {
   "cell_type": "code",
   "execution_count": 27,
   "id": "55c7c9d9",
   "metadata": {},
   "outputs": [],
   "source": [
    "# Define function to return an element of the pivot table\n",
    "def get_element(x):\n",
    "    return ptable.loc[\n",
    "        x['marital_married'], x['marital_single'], x['marital_married'], x['marital_single']]"
   ]
  },
  {
   "cell_type": "code",
   "execution_count": 28,
   "id": "e511f02a",
   "metadata": {},
   "outputs": [],
   "source": [
    "# Replace missing values\n",
    "df['age'].fillna(df[df['age'].isnull()].apply(get_element, axis=1).squeeze(), inplace=True)"
   ]
  },
  {
   "cell_type": "markdown",
   "id": "205fd9d1",
   "metadata": {},
   "source": [
    "Verify that the dataset has no missing values."
   ]
  },
  {
   "cell_type": "code",
   "execution_count": 29,
   "id": "c51cba6a",
   "metadata": {},
   "outputs": [
    {
     "data": {
      "text/plain": [
       "age                  0\n",
       "education            0\n",
       "balance              0\n",
       "contact              0\n",
       "day                  0\n",
       "month                0\n",
       "duration             0\n",
       "campaign             0\n",
       "pdays                0\n",
       "previous             0\n",
       "subscribed           0\n",
       "marital_married      0\n",
       "marital_single       0\n",
       "housing_yes          0\n",
       "default_yes          0\n",
       "loan_yes             0\n",
       "job_blue-collar      0\n",
       "job_entrepreneur     0\n",
       "job_housemaid        0\n",
       "job_management       0\n",
       "job_retired          0\n",
       "job_self-employed    0\n",
       "job_services         0\n",
       "job_student          0\n",
       "job_technician       0\n",
       "job_unemployed       0\n",
       "job_unknown          0\n",
       "poutcome_na          0\n",
       "poutcome_other       0\n",
       "poutcome_success     0\n",
       "dtype: int64"
      ]
     },
     "execution_count": 29,
     "metadata": {},
     "output_type": "execute_result"
    }
   ],
   "source": [
    "df.isna().sum()"
   ]
  },
  {
   "cell_type": "markdown",
   "id": "a10448db",
   "metadata": {},
   "source": [
    "## D. Rescaling Features"
   ]
  },
  {
   "cell_type": "code",
   "execution_count": 30,
   "id": "b1ada260",
   "metadata": {},
   "outputs": [
    {
     "name": "stdout",
     "output_type": "stream",
     "text": [
      "['age', 'education', 'balance', 'contact', 'day', 'month', 'duration', 'campaign', 'pdays', 'previous', 'subscribed', 'marital_married', 'marital_single', 'housing_yes', 'default_yes', 'loan_yes', 'job_blue-collar', 'job_entrepreneur', 'job_housemaid', 'job_management', 'job_retired', 'job_self-employed', 'job_services', 'job_student', 'job_technician', 'job_unemployed', 'job_unknown', 'poutcome_na', 'poutcome_other', 'poutcome_success']\n"
     ]
    }
   ],
   "source": [
    "print(list(df.columns.values))"
   ]
  },
  {
   "cell_type": "code",
   "execution_count": 31,
   "id": "db3d83e8",
   "metadata": {},
   "outputs": [],
   "source": [
    "robust_scaler = RobustScaler()\n",
    "df[['age', \n",
    "    'education', \n",
    "    'balance', \n",
    "    'duration', \n",
    "    'campaign', \n",
    "    'pdays', \n",
    "    'previous', \n",
    "    'month', \n",
    "    'day']] = robust_scaler.fit_transform(df[['age', \n",
    "                                              'education', \n",
    "                                              'balance', \n",
    "                                              'duration', \n",
    "                                              'campaign', \n",
    "                                              'pdays', \n",
    "                                              'previous', \n",
    "                                              'month', \n",
    "                                              'day']])"
   ]
  },
  {
   "cell_type": "code",
   "execution_count": 32,
   "id": "60c077c2",
   "metadata": {},
   "outputs": [],
   "source": [
    "df['education'] = df['education']/2"
   ]
  },
  {
   "cell_type": "code",
   "execution_count": 33,
   "id": "df8dcf35",
   "metadata": {},
   "outputs": [
    {
     "data": {
      "text/html": [
       "<div>\n",
       "<style scoped>\n",
       "    .dataframe tbody tr th:only-of-type {\n",
       "        vertical-align: middle;\n",
       "    }\n",
       "\n",
       "    .dataframe tbody tr th {\n",
       "        vertical-align: top;\n",
       "    }\n",
       "\n",
       "    .dataframe thead th {\n",
       "        text-align: right;\n",
       "    }\n",
       "</style>\n",
       "<table border=\"1\" class=\"dataframe\">\n",
       "  <thead>\n",
       "    <tr style=\"text-align: right;\">\n",
       "      <th></th>\n",
       "      <th>age</th>\n",
       "      <th>education</th>\n",
       "      <th>balance</th>\n",
       "      <th>contact</th>\n",
       "      <th>day</th>\n",
       "      <th>month</th>\n",
       "      <th>duration</th>\n",
       "      <th>campaign</th>\n",
       "      <th>pdays</th>\n",
       "      <th>previous</th>\n",
       "      <th>...</th>\n",
       "      <th>job_retired</th>\n",
       "      <th>job_self-employed</th>\n",
       "      <th>job_services</th>\n",
       "      <th>job_student</th>\n",
       "      <th>job_technician</th>\n",
       "      <th>job_unemployed</th>\n",
       "      <th>job_unknown</th>\n",
       "      <th>poutcome_na</th>\n",
       "      <th>poutcome_other</th>\n",
       "      <th>poutcome_success</th>\n",
       "    </tr>\n",
       "  </thead>\n",
       "  <tbody>\n",
       "    <tr>\n",
       "      <th>0</th>\n",
       "      <td>-0.333333</td>\n",
       "      <td>0.5</td>\n",
       "      <td>-0.110187</td>\n",
       "      <td>cellular</td>\n",
       "      <td>-0.185136</td>\n",
       "      <td>0.432953</td>\n",
       "      <td>3.094421</td>\n",
       "      <td>1.0</td>\n",
       "      <td>-0.415913</td>\n",
       "      <td>0.0</td>\n",
       "      <td>...</td>\n",
       "      <td>0</td>\n",
       "      <td>0</td>\n",
       "      <td>0</td>\n",
       "      <td>0</td>\n",
       "      <td>1</td>\n",
       "      <td>0</td>\n",
       "      <td>0</td>\n",
       "      <td>0</td>\n",
       "      <td>0</td>\n",
       "      <td>0</td>\n",
       "    </tr>\n",
       "    <tr>\n",
       "      <th>1</th>\n",
       "      <td>0.055556</td>\n",
       "      <td>0.0</td>\n",
       "      <td>0.094941</td>\n",
       "      <td>cellular</td>\n",
       "      <td>-0.185136</td>\n",
       "      <td>0.432953</td>\n",
       "      <td>-0.012876</td>\n",
       "      <td>1.0</td>\n",
       "      <td>-0.408680</td>\n",
       "      <td>-0.5</td>\n",
       "      <td>...</td>\n",
       "      <td>0</td>\n",
       "      <td>0</td>\n",
       "      <td>0</td>\n",
       "      <td>0</td>\n",
       "      <td>1</td>\n",
       "      <td>0</td>\n",
       "      <td>0</td>\n",
       "      <td>0</td>\n",
       "      <td>0</td>\n",
       "      <td>0</td>\n",
       "    </tr>\n",
       "    <tr>\n",
       "      <th>2</th>\n",
       "      <td>1.166667</td>\n",
       "      <td>0.0</td>\n",
       "      <td>0.335412</td>\n",
       "      <td>cellular</td>\n",
       "      <td>-0.185136</td>\n",
       "      <td>0.432953</td>\n",
       "      <td>-0.472103</td>\n",
       "      <td>1.0</td>\n",
       "      <td>-0.025316</td>\n",
       "      <td>-0.5</td>\n",
       "      <td>...</td>\n",
       "      <td>1</td>\n",
       "      <td>0</td>\n",
       "      <td>0</td>\n",
       "      <td>0</td>\n",
       "      <td>0</td>\n",
       "      <td>0</td>\n",
       "      <td>0</td>\n",
       "      <td>0</td>\n",
       "      <td>0</td>\n",
       "      <td>0</td>\n",
       "    </tr>\n",
       "    <tr>\n",
       "      <th>3</th>\n",
       "      <td>0.500000</td>\n",
       "      <td>0.0</td>\n",
       "      <td>-0.106029</td>\n",
       "      <td>cellular</td>\n",
       "      <td>-0.185136</td>\n",
       "      <td>0.432953</td>\n",
       "      <td>0.163090</td>\n",
       "      <td>0.0</td>\n",
       "      <td>-0.028933</td>\n",
       "      <td>0.0</td>\n",
       "      <td>...</td>\n",
       "      <td>0</td>\n",
       "      <td>0</td>\n",
       "      <td>0</td>\n",
       "      <td>0</td>\n",
       "      <td>0</td>\n",
       "      <td>0</td>\n",
       "      <td>0</td>\n",
       "      <td>0</td>\n",
       "      <td>0</td>\n",
       "      <td>0</td>\n",
       "    </tr>\n",
       "    <tr>\n",
       "      <th>4</th>\n",
       "      <td>0.888889</td>\n",
       "      <td>0.0</td>\n",
       "      <td>0.313929</td>\n",
       "      <td>cellular</td>\n",
       "      <td>-0.185136</td>\n",
       "      <td>0.432953</td>\n",
       "      <td>1.042918</td>\n",
       "      <td>0.0</td>\n",
       "      <td>0.220615</td>\n",
       "      <td>-0.5</td>\n",
       "      <td>...</td>\n",
       "      <td>1</td>\n",
       "      <td>0</td>\n",
       "      <td>0</td>\n",
       "      <td>0</td>\n",
       "      <td>0</td>\n",
       "      <td>0</td>\n",
       "      <td>0</td>\n",
       "      <td>0</td>\n",
       "      <td>0</td>\n",
       "      <td>0</td>\n",
       "    </tr>\n",
       "  </tbody>\n",
       "</table>\n",
       "<p>5 rows × 30 columns</p>\n",
       "</div>"
      ],
      "text/plain": [
       "        age  education   balance   contact       day     month  duration  \\\n",
       "0 -0.333333        0.5 -0.110187  cellular -0.185136  0.432953  3.094421   \n",
       "1  0.055556        0.0  0.094941  cellular -0.185136  0.432953 -0.012876   \n",
       "2  1.166667        0.0  0.335412  cellular -0.185136  0.432953 -0.472103   \n",
       "3  0.500000        0.0 -0.106029  cellular -0.185136  0.432953  0.163090   \n",
       "4  0.888889        0.0  0.313929  cellular -0.185136  0.432953  1.042918   \n",
       "\n",
       "   campaign     pdays  previous  ... job_retired  job_self-employed  \\\n",
       "0       1.0 -0.415913       0.0  ...           0                  0   \n",
       "1       1.0 -0.408680      -0.5  ...           0                  0   \n",
       "2       1.0 -0.025316      -0.5  ...           1                  0   \n",
       "3       0.0 -0.028933       0.0  ...           0                  0   \n",
       "4       0.0  0.220615      -0.5  ...           1                  0   \n",
       "\n",
       "   job_services  job_student  job_technician  job_unemployed  job_unknown  \\\n",
       "0             0            0               1               0            0   \n",
       "1             0            0               1               0            0   \n",
       "2             0            0               0               0            0   \n",
       "3             0            0               0               0            0   \n",
       "4             0            0               0               0            0   \n",
       "\n",
       "   poutcome_na  poutcome_other  poutcome_success  \n",
       "0            0               0                 0  \n",
       "1            0               0                 0  \n",
       "2            0               0                 0  \n",
       "3            0               0                 0  \n",
       "4            0               0                 0  \n",
       "\n",
       "[5 rows x 30 columns]"
      ]
     },
     "execution_count": 33,
     "metadata": {},
     "output_type": "execute_result"
    }
   ],
   "source": [
    "df.head(5)"
   ]
  },
  {
   "cell_type": "markdown",
   "id": "53a71c2d",
   "metadata": {},
   "source": [
    "## E. Treatment of Outliers"
   ]
  },
  {
   "cell_type": "markdown",
   "id": "e8cbc74e",
   "metadata": {},
   "source": [
    "In the previous lab exercise, we observed that balance and previous contain some extreme values."
   ]
  },
  {
   "cell_type": "code",
   "execution_count": 34,
   "id": "087e750a",
   "metadata": {},
   "outputs": [
    {
     "data": {
      "image/png": "[encoded data removed]",
      "text/plain": [
       "<Figure size 432x288 with 1 Axes>"
      ]
     },
     "metadata": {
      "needs_background": "light"
     },
     "output_type": "display_data"
    }
   ],
   "source": [
    "df.boxplot(column=['balance','previous'])\n",
    "plt.show()"
   ]
  },
  {
   "cell_type": "code",
   "execution_count": 35,
   "id": "e7d263af",
   "metadata": {},
   "outputs": [
    {
     "data": {
      "image/png": "[encoded data removed]",
      "text/plain": [
       "<Figure size 1152x288 with 2 Axes>"
      ]
     },
     "metadata": {
      "needs_background": "light"
     },
     "output_type": "display_data"
    }
   ],
   "source": [
    "# Create figure with two subplots\n",
    "fig = plt.figure(figsize=(16,4))\n",
    "\n",
    "# Plot ApplicantIncome\n",
    "ax1 = fig.add_subplot(1, 2, 1)\n",
    "ax1.set_title(\"Histogram of \")\n",
    "ax1.set_xlabel('balance')\n",
    "ax1.set_ylabel('Number of clients')\n",
    "df['balance'].hist(bins=200)\n",
    "\n",
    "# Plot LoanAmount\n",
    "ax3 = fig.add_subplot(1, 2, 2)\n",
    "ax3.set_title(\"Histogram of previous\")\n",
    "ax3.set_xlabel('previous')\n",
    "ax3.set_ylabel('Number of clients')\n",
    "df['previous'].hist(bins=200)\n",
    "\n",
    "plt.show()"
   ]
  },
  {
   "cell_type": "code",
   "execution_count": 36,
   "id": "292a656f",
   "metadata": {},
   "outputs": [
    {
     "data": {
      "text/plain": [
       "balance    -1.060984\n",
       "previous   -1.000000\n",
       "dtype: float64"
      ]
     },
     "execution_count": 36,
     "metadata": {},
     "output_type": "execute_result"
    }
   ],
   "source": [
    "df[['balance', 'previous']].min()"
   ]
  },
  {
   "cell_type": "code",
   "execution_count": 37,
   "id": "de848300",
   "metadata": {},
   "outputs": [
    {
     "name": "stdout",
     "output_type": "stream",
     "text": [
      "-1.060984060984061\n",
      "-1.0\n"
     ]
    }
   ],
   "source": [
    "print(df['balance'].min())\n",
    "print(df['previous'].min())"
   ]
  },
  {
   "cell_type": "code",
   "execution_count": 39,
   "id": "e7e65fc1",
   "metadata": {},
   "outputs": [],
   "source": [
    "# cannot divide by 0 so add a small number\n",
    "df['balance'] = np.log(df['balance'] - df['balance'].min() + 1)\n",
    "df['previous'] = np.log(df['previous'] - df['previous'].min() + 1)"
   ]
  },
  {
   "cell_type": "code",
   "execution_count": 40,
   "id": "f39e5c0b",
   "metadata": {},
   "outputs": [
    {
     "data": {
      "image/png": "[encoded data removed]",
      "text/plain": [
       "<Figure size 1152x288 with 2 Axes>"
      ]
     },
     "metadata": {
      "needs_background": "light"
     },
     "output_type": "display_data"
    }
   ],
   "source": [
    "# Create figure with two subplots\n",
    "fig = plt.figure(figsize=(16,4))\n",
    "\n",
    "# Plot ApplicantIncome\n",
    "ax1 = fig.add_subplot(1, 2, 1)\n",
    "ax1.set_title(\"Histogram of \")\n",
    "ax1.set_xlabel('balance')\n",
    "ax1.set_ylabel('Number of clients')\n",
    "df['balance'].hist(bins=200)\n",
    "\n",
    "# Plot LoanAmount\n",
    "ax3 = fig.add_subplot(1, 2, 2)\n",
    "ax3.set_title(\"Histogram of previous\")\n",
    "ax3.set_xlabel('previous')\n",
    "ax3.set_ylabel('Number of clients')\n",
    "df['previous'].hist(bins=200)\n",
    "\n",
    "plt.show()"
   ]
  },
  {
   "cell_type": "markdown",
   "id": "f25036a9",
   "metadata": {},
   "source": [
    "## F. Creation of Derived Features"
   ]
  },
  {
   "cell_type": "code",
   "execution_count": null,
   "id": "219916fb",
   "metadata": {},
   "outputs": [],
   "source": []
  },
  {
   "cell_type": "code",
   "execution_count": null,
   "id": "37940695",
   "metadata": {},
   "outputs": [],
   "source": []
  },
  {
   "cell_type": "code",
   "execution_count": null,
   "id": "e7579cf6",
   "metadata": {},
   "outputs": [],
   "source": []
  },
  {
   "cell_type": "code",
   "execution_count": null,
   "id": "20795a2b",
   "metadata": {},
   "outputs": [],
   "source": [
    "fig, ax = plt.subplots(figsize=(12, 7))\n",
    "sns.heatmap(df2.corr());"
   ]
  },
  {
   "cell_type": "code",
   "execution_count": null,
   "id": "8b87b24b",
   "metadata": {},
   "outputs": [],
   "source": [
    "possible new feature employed, retired, student, unemployed, unknown"
   ]
  },
  {
   "cell_type": "markdown",
   "id": "93827262",
   "metadata": {},
   "source": [
    "pdays discreatize this column turn to categories eg (not contacted, less than a week, more than a week, more than 1 mnt, more than 3 months)"
   ]
  }
 ],
 "metadata": {
  "kernelspec": {
   "display_name": "Python 3 (ipykernel)",
   "language": "python",
   "name": "python3"
  },
  "language_info": {
   "codemirror_mode": {
    "name": "ipython",
    "version": 3
   },
   "file_extension": ".py",
   "mimetype": "text/x-python",
   "name": "python",
   "nbconvert_exporter": "python",
   "pygments_lexer": "ipython3",
   "version": "3.9.7"
  }
 },
 "nbformat": 4,
 "nbformat_minor": 5
}
